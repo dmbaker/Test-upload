{
 "cells": [
  {
   "cell_type": "code",
   "execution_count": 1,
   "metadata": {},
   "outputs": [
    {
     "name": "stdout",
     "output_type": "stream",
     "text": [
      "Using matplotlib backend: Qt5Agg\n"
     ]
    }
   ],
   "source": [
    "%matplotlib\n",
    "\n",
    "import matplotlib.pyplot as plt\n",
    "import numpy as np\n",
    "from numpy.random import default_rng\n",
    "import numpy as np\n",
    "from sklearn.neighbors import NearestNeighbors\n",
    "from sklearn.preprocessing import MinMaxScaler\n",
    "from sklearn.datasets import load_breast_cancer\n",
    "from sklearn.model_selection import train_test_split\n",
    "from sklearn.neighbors import KernelDensity"
   ]
  },
  {
   "cell_type": "code",
   "execution_count": 2,
   "metadata": {},
   "outputs": [],
   "source": [
    "def rtv_org(ui, uf, a):\n",
    "    \"\"\"\n",
    "    http://xahlee.info/math/i/transvection_for_rotations.pdf\n",
    "    Rotate vectors via transvection.\n",
    "    Rotates an array of vectors, a, in the frame from ui to uf.\n",
    "    ui and uf are assumed to be unit vectors.\n",
    "    Assume ui and uf are numpy (1,3) arrays and a is\n",
    "    numpy (N,3) array.\n",
    "    \"\"\"\n",
    "    s = ui + uf\n",
    "    c = 2.0 / np.dot(s, s)\n",
    "    w = (2.0 * np.dot(a, ui)) * ui - a\n",
    "    r = (c * np.dot(w, s)) * s - w\n",
    "    \n",
    "    return r\n",
    "\n",
    "def rtv(ui, uf, a):\n",
    "    \"\"\"\n",
    "    http://xahlee.info/math/i/transvection_for_rotations.pdf\n",
    "    Rotate vectors via transvection.\n",
    "    Rotates an array of vectors, a, in the frame from ui to uf.\n",
    "    ui and uf are assumed to be unit vectors.\n",
    "    Assume ui and uf are numpy (1,3) arrays and a is\n",
    "    numpy (N,3) array.\n",
    "    \"\"\"\n",
    "    just_one = np.ndim(a) == 1\n",
    "    a = np.atleast_2d(a)\n",
    "    \n",
    "    s = ui + uf\n",
    "    c = 2.0 / np.dot(s, s)\n",
    "    w = (2.0 * np.dot(a, ui))[:,None] * ui - a\n",
    "    r = (c * np.dot(w, s))[:,None] * s - w\n",
    "    \n",
    "    return r[0] if just_one else r\n",
    "\n",
    "def rtv_einsum(ui, uf, a):\n",
    "    \"\"\"\n",
    "    http://xahlee.info/math/i/transvection_for_rotations.pdf\n",
    "    Rotate vectors via transvection.\n",
    "    Rotates the row vectors, a, in the frame of each row in ui to uf\n",
    "    from ui to uf.  The row vectors in ui and uf are assumed to be\n",
    "    unit length. This method uses einsum to calculate the rowwise\n",
    "    dot product.\n",
    "    \n",
    "    Parameters\n",
    "    ----------\n",
    "    a : 2-D array_like\n",
    "        An (N, M) 2-D array.\n",
    "    ui, uf : 2-D array_like\n",
    "        An (N, M) 2-D array where each row vector is unit length\n",
    "        in an M-dimentional space\n",
    "    \n",
    "    Returns\n",
    "    -------\n",
    "    a-rotated : 2-D array_like\n",
    "        An (N, M) 2-D array where each row vector in a is rotated\n",
    "        from the matching row vector in ui to the matching row vector in uf\n",
    "    \n",
    "    Examples\n",
    "    --------\n",
    "    >>> ui = np.array([[1, 0, 0, 0, 0],[0, 0, 0, 0, 1]])\n",
    "    >>> uf = np.array([[0, 1, 0, 0, 0],[0, 0, 0, 1, 0]])\n",
    "    >>> aa = np.array([[1, 1, 0, 0, 0],[0, 0, 0, 1, 1]])\n",
    "    \n",
    "    >>> rtv_einsum(ai, uf, aa)\n",
    "    array([[-1.,  1.,  0.,  0.,  0.], [ 0.,  0.,  0.,  1., -1.]])\n",
    "    \n",
    "    \"\"\"\n",
    "    just_one = np.ndim(a) == 1\n",
    "    a = np.atleast_2d(a)\n",
    "    \n",
    "    s = ui + uf\n",
    "    c = (2.0 / np.einsum('ij,ij->i', s,  s))\n",
    "    w = (2.0 * np.einsum('ij,ij->i', a, ui))[:,None] * ui - a\n",
    "    r = (c   * np.einsum('ij,ij->i', w,  s))[:,None] *  s - w\n",
    " \n",
    "    return r[0] if just_one else r\n",
    "\n",
    "def normalized(a, axis=-1, order=2):\n",
    "    \"\"\"\n",
    "    Normalize a vector for arbitrary axes, and giving optimal performance.\n",
    "    \"\"\"\n",
    "    one_dim = np.ndim(a) == 0 or np.ndim(a) == 1\n",
    "    l2 = np.atleast_1d(np.linalg.norm(a, order, axis))\n",
    "    l2[l2==0] = 1\n",
    "    ret = a / np.expand_dims(l2, axis)\n",
    "    return ret[0] if one_dim else ret\n",
    "\n",
    "def einsumdot(x, y):\n",
    "    \"\"\"\n",
    "    Rowwise dot product\n",
    "    \"\"\"\n",
    "    return np.einsum('ij,ij->i', x, y)\n",
    "\n",
    "def uniform_sampler(X, n_samples=1, random_state=None):\n",
    "    \"\"\"\n",
    "    Uniformly sample the columns of the data set.\n",
    "    \"\"\"\n",
    "    rng = np.random.default_rng(random_state)\n",
    "    return rng.uniform(low=X.min(axis=0), high=X.max(axis=0), size=(n_samples, X.shape[1]))\n",
    "    \n",
    "def kd_sampler(X, n_samples=1, random_state=None):\n",
    "    \"\"\"\n",
    "    Use a kernal density estimator to sample the datasets columns.\n",
    "    \"\"\"\n",
    "    kde = KernelDensity(kernel='gaussian', bandwidth=0.5).fit(X)\n",
    "    return kde.sample(n_samples, random_state)"
   ]
  },
  {
   "cell_type": "code",
   "execution_count": 3,
   "metadata": {},
   "outputs": [],
   "source": [
    "uiii = np.array([[1,0,0,0,0],[0,0,0,0,1]])\n",
    "ufff = np.array([[0,1,0,0,0],[0,0,0,1,0]])\n",
    "aaaa = np.array([[1,1,0,0,0],[0,0,0,1,1]])"
   ]
  },
  {
   "cell_type": "code",
   "execution_count": 4,
   "metadata": {},
   "outputs": [
    {
     "data": {
      "text/plain": [
       "array([[-1.,  1.,  0.,  0.,  0.],\n",
       "       [ 0.,  0.,  0.,  1., -1.]])"
      ]
     },
     "execution_count": 4,
     "metadata": {},
     "output_type": "execute_result"
    }
   ],
   "source": [
    "rtv_einsum(uiii, ufff, aaaa)"
   ]
  },
  {
   "cell_type": "raw",
   "metadata": {},
   "source": [
    "def npsumdot(x, y):\n",
    "    return np.sum(x*y, axis=1)\n",
    "\n",
    "def npsumdot2(x, y):\n",
    "    return np.sum(x.T*y.T, axis=0)\n",
    "\n",
    "def npeinsum(x, y):\n",
    "    return np.einsum('ij,ij->i', x, y)\n",
    "\n",
    "def loopdot(x, y):\n",
    "    result = np.empty((x.shape[0]))\n",
    "    for i in range(x.shape[0]):\n",
    "        result[i] = np.dot(x[i], y[i])\n",
    "    return result\n",
    "\n",
    "%timeit npsumdot(np.random.rand(500000,50),np.random.rand(500000,50))\n",
    "%timeit npsumdot2(np.random.rand(500000,50),np.random.rand(500000,50))\n",
    "%timeit npeinsum(np.random.rand(500000,50),np.random.rand(500000,50))\n",
    "# 1 loops, best of 3: 861 ms per loop\n",
    "%timeit loopdot(np.random.rand(500000,50),np.random.rand(500000,50))\n",
    "# 1 loops, best of 3: 1.58 s per loop"
   ]
  },
  {
   "cell_type": "code",
   "execution_count": 5,
   "metadata": {},
   "outputs": [],
   "source": [
    "rng = np.random.default_rng(12345)"
   ]
  },
  {
   "cell_type": "code",
   "execution_count": 6,
   "metadata": {},
   "outputs": [
    {
     "data": {
      "text/plain": [
       "numpy.random._generator.Generator"
      ]
     },
     "execution_count": 6,
     "metadata": {},
     "output_type": "execute_result"
    }
   ],
   "source": [
    "type(rng)"
   ]
  },
  {
   "cell_type": "raw",
   "metadata": {},
   "source": [
    "rst = np.random.RandomState(rng)\n",
    "type(rst)"
   ]
  },
  {
   "cell_type": "code",
   "execution_count": 7,
   "metadata": {},
   "outputs": [
    {
     "data": {
      "text/plain": [
       "array([[ 0,  1,  2],\n",
       "       [ 3,  4,  5],\n",
       "       [ 6,  7,  8],\n",
       "       [ 9, 10, 11]])"
      ]
     },
     "execution_count": 7,
     "metadata": {},
     "output_type": "execute_result"
    }
   ],
   "source": [
    "x = np.array([[0,1,2], [3,4,5], [6,7,8], [9,10,11]])\n",
    "x"
   ]
  },
  {
   "cell_type": "code",
   "execution_count": 8,
   "metadata": {},
   "outputs": [
    {
     "data": {
      "text/plain": [
       "array([[ 0,  1,  2],\n",
       "       [ 0,  1,  2],\n",
       "       [ 3,  4,  5],\n",
       "       [ 3,  4,  5],\n",
       "       [ 6,  7,  8],\n",
       "       [ 6,  7,  8],\n",
       "       [ 9, 10, 11],\n",
       "       [ 9, 10, 11]])"
      ]
     },
     "execution_count": 8,
     "metadata": {},
     "output_type": "execute_result"
    }
   ],
   "source": [
    "np.repeat(x, 2, axis=0)"
   ]
  },
  {
   "cell_type": "code",
   "execution_count": 9,
   "metadata": {},
   "outputs": [
    {
     "data": {
      "text/plain": [
       "array([[0, 1, 2],\n",
       "       [0, 1, 2]])"
      ]
     },
     "execution_count": 9,
     "metadata": {},
     "output_type": "execute_result"
    }
   ],
   "source": [
    "np.repeat([x[0]], 2, axis=0)"
   ]
  },
  {
   "cell_type": "code",
   "execution_count": 10,
   "metadata": {},
   "outputs": [
    {
     "data": {
      "text/plain": [
       "array([ 2,  5,  8, 11])"
      ]
     },
     "execution_count": 10,
     "metadata": {},
     "output_type": "execute_result"
    }
   ],
   "source": [
    "x[:,2] #+= 100"
   ]
  },
  {
   "cell_type": "code",
   "execution_count": 11,
   "metadata": {},
   "outputs": [],
   "source": [
    "x_min = x.min(axis=0)\n",
    "x_max = x.max(axis=0)"
   ]
  },
  {
   "cell_type": "code",
   "execution_count": 12,
   "metadata": {},
   "outputs": [],
   "source": [
    "rints = rng.integers(low=x_min, high=x_max, size=(4,3))"
   ]
  },
  {
   "cell_type": "code",
   "execution_count": 13,
   "metadata": {},
   "outputs": [
    {
     "data": {
      "text/plain": [
       "array([[ 6,  3,  9],\n",
       "       [ 2,  2,  9],\n",
       "       [ 5,  7, 10],\n",
       "       [ 3,  8,  4]], dtype=int64)"
      ]
     },
     "execution_count": 13,
     "metadata": {},
     "output_type": "execute_result"
    }
   ],
   "source": [
    "rints"
   ]
  },
  {
   "cell_type": "code",
   "execution_count": 14,
   "metadata": {},
   "outputs": [
    {
     "data": {
      "text/plain": [
       "array([[ 0.,  1.,  2.,  3.],\n",
       "       [ 4.,  5.,  6.,  7.],\n",
       "       [ 8.,  9., 10., 11.],\n",
       "       [12., 13., 14., 15.],\n",
       "       [16., 17., 18., 19.],\n",
       "       [20., 21., 22., 23.],\n",
       "       [24., 25., 26., 27.],\n",
       "       [28., 29., 30., 31.],\n",
       "       [32., 33., 34., 35.],\n",
       "       [36., 37., 38., 39.],\n",
       "       [40., 41., 42., 43.],\n",
       "       [44., 45., 46., 47.],\n",
       "       [48., 49., 50., 51.],\n",
       "       [52., 53., 54., 55.]])"
      ]
     },
     "execution_count": 14,
     "metadata": {},
     "output_type": "execute_result"
    }
   ],
   "source": [
    "xx = np.arange(14*4, dtype=float).reshape([14,4])\n",
    "xx"
   ]
  },
  {
   "cell_type": "code",
   "execution_count": 15,
   "metadata": {},
   "outputs": [],
   "source": [
    "xx_min = xx.min(axis=0)\n",
    "xx_max = xx.max(axis=0)"
   ]
  },
  {
   "cell_type": "code",
   "execution_count": 16,
   "metadata": {},
   "outputs": [
    {
     "data": {
      "text/plain": [
       "(4,)"
      ]
     },
     "execution_count": 16,
     "metadata": {},
     "output_type": "execute_result"
    }
   ],
   "source": [
    "xx_min.shape"
   ]
  },
  {
   "cell_type": "code",
   "execution_count": 17,
   "metadata": {},
   "outputs": [],
   "source": [
    "rfloats_init = rng.uniform(low=xx_min, high=xx_max, size=(14,4))"
   ]
  },
  {
   "cell_type": "code",
   "execution_count": 18,
   "metadata": {},
   "outputs": [
    {
     "data": {
      "text/plain": [
       "array([[31.11205519, 10.71017765, 36.98331429, 51.97374899],\n",
       "       [12.90877716, 50.3418199 , 36.69634756,  7.98669265],\n",
       "       [22.97566264, 47.09695581, 38.26758199, 19.97658893],\n",
       "       [38.16426449, 12.44701769,  6.24291762, 11.31457126],\n",
       "       [17.68520962, 25.19004399, 15.85389347, 45.42037298],\n",
       "       [10.05130824,  7.73239196,  6.76656708, 34.12553671],\n",
       "       [44.44657903, 32.28430457, 50.46339478, 40.68863078],\n",
       "       [44.7486685 , 49.32556568, 30.40167247, 51.75899386],\n",
       "       [25.73937288, 15.23620549, 25.49249279, 37.58202402],\n",
       "       [17.20632838, 47.97960835, 15.36785711, 20.67107356],\n",
       "       [13.46037673, 19.48321696,  2.26116135, 35.68743629],\n",
       "       [14.68390079,  4.54055985, 34.07510682, 12.16896865],\n",
       "       [15.82819614, 23.92611417,  9.81052174, 14.33230088],\n",
       "       [24.665322  , 25.77118046, 15.2720824 , 18.47339394]])"
      ]
     },
     "execution_count": 18,
     "metadata": {},
     "output_type": "execute_result"
    }
   ],
   "source": [
    "rfloats_init"
   ]
  },
  {
   "cell_type": "code",
   "execution_count": 19,
   "metadata": {},
   "outputs": [
    {
     "data": {
      "text/plain": [
       "array([[11.82147317, 17.47143366, 43.46300378, 38.16524288],\n",
       "       [20.33769663, 18.30632425, 33.11205519, 12.71017765],\n",
       "       [34.98331429, 49.97374899, 14.90877716, 52.3418199 ],\n",
       "       [34.69634756,  5.98669265, 24.97566264, 49.09695581],\n",
       "       [36.26758199, 17.97658893, 40.16426449, 14.44701769],\n",
       "       [ 4.24291762,  9.31457126, 19.68520962, 27.19004399],\n",
       "       [13.85389347, 43.42037298, 12.05130824,  9.73239196],\n",
       "       [ 4.76656708, 32.12553671, 46.44657903, 34.28430457],\n",
       "       [48.46339478, 38.68863078, 46.7486685 , 51.32556568],\n",
       "       [28.40167247, 49.75899386, 27.73937288, 17.23620549],\n",
       "       [23.49249279, 35.58202402, 19.20632838, 49.97960835],\n",
       "       [13.36785711, 18.67107356, 15.46037673, 21.48321696],\n",
       "       [ 0.26116135, 33.68743629, 16.68390079,  6.54055985],\n",
       "       [32.07510682, 10.16896865, 17.82819614, 25.92611417]])"
      ]
     },
     "execution_count": 19,
     "metadata": {},
     "output_type": "execute_result"
    }
   ],
   "source": [
    "uniform_sampler(xx, 14, 12345)"
   ]
  },
  {
   "cell_type": "code",
   "execution_count": 20,
   "metadata": {},
   "outputs": [
    {
     "data": {
      "text/plain": [
       "array([[52.50359468, 52.35188945, 54.13749582, 55.11445644],\n",
       "       [16.67645842, 17.44321467, 16.99918135, 18.81407873],\n",
       "       [ 8.83451265,  8.78071513,  9.73012928, 11.23849251],\n",
       "       [ 9.62447196,  8.48938624,  9.71145635, 11.06206064],\n",
       "       [28.15130678, 29.26188603, 30.00047014, 31.6719049 ],\n",
       "       [31.64322801, 32.58442323, 32.81488417, 34.06961961],\n",
       "       [51.5696213 , 53.28007265, 53.36703275, 55.05991356],\n",
       "       [35.46824378, 37.16644136, 36.8202906 , 38.90022852],\n",
       "       [39.22900224, 40.51463204, 41.34648487, 43.14317487],\n",
       "       [36.18899206, 36.62305673, 38.16564283, 39.67487111],\n",
       "       [40.03493834, 41.12333705, 41.9940692 , 43.5024058 ],\n",
       "       [52.66359731, 52.54036922, 53.22544678, 55.0110923 ],\n",
       "       [ 0.37918157,  0.66973784,  2.43129004,  2.99498405],\n",
       "       [ 4.02500468,  5.3351078 ,  6.42648252,  6.52206557]])"
      ]
     },
     "execution_count": 20,
     "metadata": {},
     "output_type": "execute_result"
    }
   ],
   "source": [
    "kd_sampler(xx, 14, 12345)"
   ]
  },
  {
   "cell_type": "code",
   "execution_count": 21,
   "metadata": {},
   "outputs": [
    {
     "name": "stdout",
     "output_type": "stream",
     "text": [
      "[31.11205519 10.71017765 36.98331429 51.97374899]\n"
     ]
    }
   ],
   "source": [
    "print(rfloats_init[0])"
   ]
  },
  {
   "cell_type": "code",
   "execution_count": 22,
   "metadata": {},
   "outputs": [
    {
     "data": {
      "text/plain": [
       "array([[0.60698413, 0.13470411, 0.72034324, 1.        ],\n",
       "       [0.08235407, 1.        , 0.71438985, 0.        ],\n",
       "       [0.37248812, 0.92915339, 0.74698656, 0.27257783],\n",
       "       [0.81023329, 0.17262533, 0.08260522, 0.07565586],\n",
       "       [0.22001389, 0.4508497 , 0.28199382, 0.85101581],\n",
       "       [0.        , 0.06968874, 0.09346882, 0.59423945],\n",
       "       [0.99129359, 0.60574195, 1.        , 0.74344457],\n",
       "       [1.        , 0.97781165, 0.58380098, 0.99511777],\n",
       "       [0.45214   , 0.23352296, 0.4819555 , 0.67281909],\n",
       "       [0.20621223, 0.94842475, 0.27191055, 0.28836621],\n",
       "       [0.09825152, 0.32624991, 0.        , 0.62974761],\n",
       "       [0.13351426, 0.        , 0.66000978, 0.0950797 ],\n",
       "       [0.16649358, 0.42325373, 0.15661848, 0.14426081],\n",
       "       [0.42118518, 0.46353792, 0.26992361, 0.23840425]])"
      ]
     },
     "execution_count": 22,
     "metadata": {},
     "output_type": "execute_result"
    }
   ],
   "source": [
    "scaler = MinMaxScaler()\n",
    "rfloats = scaler.fit_transform(rfloats_init)\n",
    "rfloats"
   ]
  },
  {
   "cell_type": "code",
   "execution_count": 23,
   "metadata": {},
   "outputs": [
    {
     "data": {
      "text/plain": [
       "(14, 4)"
      ]
     },
     "execution_count": 23,
     "metadata": {},
     "output_type": "execute_result"
    }
   ],
   "source": [
    "rfloats.shape"
   ]
  },
  {
   "cell_type": "code",
   "execution_count": 24,
   "metadata": {},
   "outputs": [
    {
     "data": {
      "text/plain": [
       "(14,)"
      ]
     },
     "execution_count": 24,
     "metadata": {},
     "output_type": "execute_result"
    }
   ],
   "source": [
    "cr = np.array([True, False, True, False, False, False, False, False, False, False, False, False, False, False], dtype=bool)\n",
    "cr.shape"
   ]
  },
  {
   "cell_type": "code",
   "execution_count": 25,
   "metadata": {},
   "outputs": [
    {
     "data": {
      "text/plain": [
       "array([[0., 0., 2.],\n",
       "       [1., 0., 0.],\n",
       "       [0., 0., 1.],\n",
       "       [0., 1., 0.]])"
      ]
     },
     "execution_count": 25,
     "metadata": {},
     "output_type": "execute_result"
    }
   ],
   "source": [
    "samples = np.array([[0, 0, 2], [1, 0, 0], [0, 0, 1], [0, 1, 0]], dtype=float)\n",
    "samples"
   ]
  },
  {
   "cell_type": "markdown",
   "metadata": {},
   "source": [
    "#### A flag array for  our target class"
   ]
  },
  {
   "cell_type": "code",
   "execution_count": 26,
   "metadata": {},
   "outputs": [
    {
     "data": {
      "text/plain": [
       "array([ True, False,  True, False])"
      ]
     },
     "execution_count": 26,
     "metadata": {},
     "output_type": "execute_result"
    }
   ],
   "source": [
    "c = np.array([True, False, True, False], dtype=bool)\n",
    "c"
   ]
  },
  {
   "cell_type": "code",
   "execution_count": 27,
   "metadata": {},
   "outputs": [
    {
     "data": {
      "text/plain": [
       "NearestNeighbors(n_neighbors=2)"
      ]
     },
     "execution_count": 27,
     "metadata": {},
     "output_type": "execute_result"
    }
   ],
   "source": [
    "neigh = NearestNeighbors(n_neighbors=2)\n",
    "neigh.fit(samples)"
   ]
  },
  {
   "cell_type": "markdown",
   "metadata": {},
   "source": [
    "#### The test_set is our syntehtic samples"
   ]
  },
  {
   "cell_type": "code",
   "execution_count": 28,
   "metadata": {},
   "outputs": [],
   "source": [
    "test_set = np.array([[0, 0, 1.3], [0.1, 0, 0], [0.1, 0.1, 1.3]])"
   ]
  },
  {
   "cell_type": "code",
   "execution_count": 29,
   "metadata": {},
   "outputs": [
    {
     "data": {
      "text/plain": [
       "array([[2, 0],\n",
       "       [1, 2],\n",
       "       [2, 0]], dtype=int64)"
      ]
     },
     "execution_count": 29,
     "metadata": {},
     "output_type": "execute_result"
    }
   ],
   "source": [
    "nnd, nni = neigh.kneighbors(test_set, return_distance=True)\n",
    "nni"
   ]
  },
  {
   "cell_type": "code",
   "execution_count": 30,
   "metadata": {},
   "outputs": [
    {
     "data": {
      "text/plain": [
       "array([[0.3       , 0.7       ],\n",
       "       [0.9       , 1.00498756],\n",
       "       [0.33166248, 0.71414284]])"
      ]
     },
     "execution_count": 30,
     "metadata": {},
     "output_type": "execute_result"
    }
   ],
   "source": [
    "nnd"
   ]
  },
  {
   "cell_type": "code",
   "execution_count": 31,
   "metadata": {},
   "outputs": [
    {
     "data": {
      "text/plain": [
       "(3, 2)"
      ]
     },
     "execution_count": 31,
     "metadata": {},
     "output_type": "execute_result"
    }
   ],
   "source": [
    "nni.shape"
   ]
  },
  {
   "cell_type": "code",
   "execution_count": 32,
   "metadata": {},
   "outputs": [
    {
     "data": {
      "text/plain": [
       "array([[[0., 0., 1.],\n",
       "        [0., 0., 2.]],\n",
       "\n",
       "       [[1., 0., 0.],\n",
       "        [0., 0., 1.]],\n",
       "\n",
       "       [[0., 0., 1.],\n",
       "        [0., 0., 2.]]])"
      ]
     },
     "execution_count": 32,
     "metadata": {},
     "output_type": "execute_result"
    }
   ],
   "source": [
    "nns = samples[nni]\n",
    "nns"
   ]
  },
  {
   "cell_type": "markdown",
   "metadata": {},
   "source": [
    "#### Map the target flags into our nn index array\n",
    "This gives an array that tells which neighbors of our test_set are in our target class"
   ]
  },
  {
   "cell_type": "code",
   "execution_count": 33,
   "metadata": {},
   "outputs": [
    {
     "data": {
      "text/plain": [
       "array([[ True,  True],\n",
       "       [False,  True],\n",
       "       [ True,  True]])"
      ]
     },
     "execution_count": 33,
     "metadata": {},
     "output_type": "execute_result"
    }
   ],
   "source": [
    "cx = c[nni]\n",
    "cx"
   ]
  },
  {
   "cell_type": "markdown",
   "metadata": {},
   "source": [
    "And this tells us what records in our test_set have no neighbors in our target class"
   ]
  },
  {
   "cell_type": "code",
   "execution_count": 34,
   "metadata": {},
   "outputs": [
    {
     "data": {
      "text/plain": [
       "array([False,  True, False])"
      ]
     },
     "execution_count": 34,
     "metadata": {},
     "output_type": "execute_result"
    }
   ],
   "source": [
    "cs = ~cx.all(axis=1)\n",
    "cs"
   ]
  },
  {
   "cell_type": "markdown",
   "metadata": {},
   "source": [
    "#### The records from our test_set that have at least one neighbor in our target class\n",
    "*** 2.1.4 Update the generated instances - rule 1 ***\n",
    "\n",
    "If all the neighbours belong to the majority class, we remove that generated instance (addressing RQ1)."
   ]
  },
  {
   "cell_type": "code",
   "execution_count": 35,
   "metadata": {},
   "outputs": [
    {
     "data": {
      "text/plain": [
       "array([[[1., 0., 0.],\n",
       "        [0., 0., 1.]]])"
      ]
     },
     "execution_count": 35,
     "metadata": {},
     "output_type": "execute_result"
    }
   ],
   "source": [
    "nns[cs]"
   ]
  },
  {
   "cell_type": "code",
   "execution_count": 36,
   "metadata": {},
   "outputs": [
    {
     "data": {
      "text/plain": [
       "array([[1, 2]], dtype=int64)"
      ]
     },
     "execution_count": 36,
     "metadata": {},
     "output_type": "execute_result"
    }
   ],
   "source": [
    "nni[cs]"
   ]
  },
  {
   "cell_type": "markdown",
   "metadata": {},
   "source": [
    "#### Sort by distance to the neighbors for each test_set element"
   ]
  },
  {
   "cell_type": "code",
   "execution_count": 37,
   "metadata": {},
   "outputs": [
    {
     "data": {
      "text/plain": [
       "array([[0, 1],\n",
       "       [0, 1],\n",
       "       [0, 1]], dtype=int64)"
      ]
     },
     "execution_count": 37,
     "metadata": {},
     "output_type": "execute_result"
    }
   ],
   "source": [
    "srt = np.argsort(nnd, axis=1)\n",
    "srt"
   ]
  },
  {
   "cell_type": "code",
   "execution_count": 38,
   "metadata": {},
   "outputs": [
    {
     "data": {
      "text/plain": [
       "array([[2, 0],\n",
       "       [1, 2],\n",
       "       [2, 0]], dtype=int64)"
      ]
     },
     "execution_count": 38,
     "metadata": {},
     "output_type": "execute_result"
    }
   ],
   "source": [
    "nni"
   ]
  },
  {
   "cell_type": "code",
   "execution_count": 39,
   "metadata": {},
   "outputs": [
    {
     "data": {
      "text/plain": [
       "array([ True, False,  True])"
      ]
     },
     "execution_count": 39,
     "metadata": {},
     "output_type": "execute_result"
    }
   ],
   "source": [
    "nni_srt = c[np.take_along_axis(nni, srt, axis=1)[:,0]]\n",
    "nni_srt"
   ]
  },
  {
   "cell_type": "markdown",
   "metadata": {},
   "source": [
    "#### Get the set of test_set elements whos nearest neighbor is of our target class\n",
    "*** 2.1.4 Update the generated instances - rule 2 ***\n",
    "\n",
    "If the condition of rule (1) is not met, we order the neighbours based on their distance from the generated instance. If the closest neighbour belongs to the minority class, we keep that generated instance and update it as su (updated instance)."
   ]
  },
  {
   "cell_type": "code",
   "execution_count": 40,
   "metadata": {},
   "outputs": [
    {
     "data": {
      "text/plain": [
       "array([[0. , 0. , 1.3],\n",
       "       [0.1, 0.1, 1.3]])"
      ]
     },
     "execution_count": 40,
     "metadata": {},
     "output_type": "execute_result"
    }
   ],
   "source": [
    "test_set[nni_srt]"
   ]
  },
  {
   "cell_type": "markdown",
   "metadata": {},
   "source": [
    "## Now we will build rule 3\n",
    "\n",
    "### ^^^^^^^"
   ]
  },
  {
   "cell_type": "code",
   "execution_count": 41,
   "metadata": {},
   "outputs": [],
   "source": [
    "data = load_breast_cancer()\n",
    "X, y = data.data, data.target\n",
    "X_train, X_test, y_train, y_test = train_test_split(X, y, random_state=42)"
   ]
  },
  {
   "cell_type": "code",
   "execution_count": 42,
   "metadata": {},
   "outputs": [
    {
     "data": {
      "text/plain": [
       "569"
      ]
     },
     "execution_count": 42,
     "metadata": {},
     "output_type": "execute_result"
    }
   ],
   "source": [
    "len(y)"
   ]
  },
  {
   "cell_type": "code",
   "execution_count": 43,
   "metadata": {},
   "outputs": [
    {
     "data": {
      "text/plain": [
       "357"
      ]
     },
     "execution_count": 43,
     "metadata": {},
     "output_type": "execute_result"
    }
   ],
   "source": [
    "sum(y)"
   ]
  },
  {
   "cell_type": "code",
   "execution_count": 44,
   "metadata": {},
   "outputs": [
    {
     "data": {
      "text/plain": [
       "212"
      ]
     },
     "execution_count": 44,
     "metadata": {},
     "output_type": "execute_result"
    }
   ],
   "source": [
    "len(y) - sum(y)"
   ]
  },
  {
   "cell_type": "code",
   "execution_count": 45,
   "metadata": {},
   "outputs": [
    {
     "data": {
      "text/plain": [
       "array([[ 0,  1,  2,  3,  4,  5,  6,  7,  8,  9],\n",
       "       [10, 11, 12, 13, 14, 15, 16, 17, 18, 19],\n",
       "       [20, 21, 22, 23, 24, 25, 26, 27, 28, 29],\n",
       "       [30, 31, 32, 33, 34, 35, 36, 37, 38, 39],\n",
       "       [40, 41, 42, 43, 44, 45, 46, 47, 48, 49],\n",
       "       [50, 51, 52, 53, 54, 55, 56, 57, 58, 59],\n",
       "       [60, 61, 62, 63, 64, 65, 66, 67, 68, 69],\n",
       "       [70, 71, 72, 73, 74, 75, 76, 77, 78, 79],\n",
       "       [80, 81, 82, 83, 84, 85, 86, 87, 88, 89],\n",
       "       [90, 91, 92, 93, 94, 95, 96, 97, 98, 99]])"
      ]
     },
     "execution_count": 45,
     "metadata": {},
     "output_type": "execute_result"
    }
   ],
   "source": [
    "jjj = np.arange(10 * 10).reshape(10, 10)\n",
    "jjj"
   ]
  },
  {
   "cell_type": "code",
   "execution_count": 46,
   "metadata": {},
   "outputs": [
    {
     "data": {
      "text/plain": [
       "array([[ 0,  1,  2,  3,  4,  5,  6],\n",
       "       [10, 11, 12, 13, 14, 15, 16],\n",
       "       [20, 21, 22, 23, 24, 25, 26],\n",
       "       [30, 31, 32, 33, 34, 35, 36],\n",
       "       [40, 41, 42, 43, 44, 45, 46],\n",
       "       [50, 51, 52, 53, 54, 55, 56],\n",
       "       [60, 61, 62, 63, 64, 65, 66],\n",
       "       [70, 71, 72, 73, 74, 75, 76],\n",
       "       [80, 81, 82, 83, 84, 85, 86],\n",
       "       [90, 91, 92, 93, 94, 95, 96]])"
      ]
     },
     "execution_count": 46,
     "metadata": {},
     "output_type": "execute_result"
    }
   ],
   "source": [
    "jjj[:,:-3]"
   ]
  },
  {
   "cell_type": "markdown",
   "metadata": {},
   "source": [
    "#### Trim off a few features so we don't end up with a square matrix"
   ]
  },
  {
   "cell_type": "code",
   "execution_count": 47,
   "metadata": {},
   "outputs": [],
   "source": [
    "trim_features = -3"
   ]
  },
  {
   "cell_type": "markdown",
   "metadata": {},
   "source": [
    "#### Scale the data\n",
    "\n",
    "D_norm"
   ]
  },
  {
   "cell_type": "code",
   "execution_count": 48,
   "metadata": {},
   "outputs": [],
   "source": [
    "rfloats = scaler.fit_transform(X_train[:,:trim_features])"
   ]
  },
  {
   "cell_type": "code",
   "execution_count": 49,
   "metadata": {},
   "outputs": [
    {
     "data": {
      "text/plain": [
       "(426, 27)"
      ]
     },
     "execution_count": 49,
     "metadata": {},
     "output_type": "execute_result"
    }
   ],
   "source": [
    "rfloats.shape"
   ]
  },
  {
   "cell_type": "markdown",
   "metadata": {},
   "source": [
    "#### We set the class data to bool so we have mask array then invert because the class flagged as one (1) in the original data is the WDBC-Benign class.  We need it to be the other way around.  We want the target / minority class to be the positive class, 1."
   ]
  },
  {
   "cell_type": "code",
   "execution_count": 50,
   "metadata": {},
   "outputs": [
    {
     "data": {
      "text/plain": [
       "268"
      ]
     },
     "execution_count": 50,
     "metadata": {},
     "output_type": "execute_result"
    }
   ],
   "source": [
    "sum(y_train)"
   ]
  },
  {
   "cell_type": "markdown",
   "metadata": {},
   "source": [
    "#### A binnary flag array of the minority class rows in D_norm"
   ]
  },
  {
   "cell_type": "code",
   "execution_count": 51,
   "metadata": {},
   "outputs": [],
   "source": [
    "cr = ~np.array(y_train, dtype=bool)"
   ]
  },
  {
   "cell_type": "code",
   "execution_count": 52,
   "metadata": {
    "scrolled": true
   },
   "outputs": [
    {
     "data": {
      "text/plain": [
       "array([False,  True, False,  True,  True,  True, False,  True, False,\n",
       "       False, False, False,  True,  True, False, False, False, False,\n",
       "       False, False, False,  True, False, False, False, False,  True,\n",
       "       False, False, False, False, False, False,  True, False, False,\n",
       "       False, False, False, False,  True,  True,  True, False, False,\n",
       "        True, False,  True, False, False, False, False,  True, False,\n",
       "       False,  True, False, False, False,  True, False,  True,  True,\n",
       "       False, False, False,  True, False, False, False, False,  True,\n",
       "       False, False, False, False, False,  True, False,  True,  True,\n",
       "       False, False,  True, False, False, False, False, False, False,\n",
       "       False,  True,  True,  True, False, False,  True, False, False,\n",
       "        True, False,  True, False,  True, False,  True, False, False,\n",
       "        True, False, False, False,  True, False,  True, False,  True,\n",
       "       False,  True, False, False,  True, False, False, False, False,\n",
       "        True, False, False, False,  True, False, False,  True, False,\n",
       "       False,  True, False, False, False, False, False, False, False,\n",
       "        True, False, False, False,  True, False,  True, False, False,\n",
       "       False,  True, False,  True,  True, False, False,  True, False,\n",
       "        True,  True,  True, False, False, False,  True, False, False,\n",
       "        True, False,  True, False, False, False,  True, False,  True,\n",
       "       False, False,  True,  True, False, False,  True, False,  True,\n",
       "        True, False,  True,  True, False, False,  True,  True,  True,\n",
       "       False, False, False, False,  True, False,  True,  True,  True,\n",
       "        True, False, False, False, False, False, False, False, False,\n",
       "        True,  True, False, False,  True, False, False, False, False,\n",
       "       False,  True, False, False,  True,  True, False,  True, False,\n",
       "        True, False, False, False, False, False, False,  True, False,\n",
       "       False,  True, False, False, False, False, False, False,  True,\n",
       "       False, False,  True, False,  True,  True,  True, False,  True,\n",
       "       False, False,  True,  True,  True, False, False, False, False,\n",
       "       False, False, False,  True, False, False, False,  True, False,\n",
       "       False,  True,  True, False,  True, False,  True,  True, False,\n",
       "       False,  True, False,  True,  True, False,  True,  True, False,\n",
       "       False,  True, False,  True, False, False,  True, False, False,\n",
       "        True,  True,  True, False, False, False,  True,  True, False,\n",
       "        True,  True, False, False, False,  True, False,  True,  True,\n",
       "        True,  True, False, False,  True, False, False,  True,  True,\n",
       "        True,  True,  True,  True, False, False, False, False, False,\n",
       "       False, False,  True,  True,  True,  True, False, False, False,\n",
       "       False,  True, False,  True, False, False, False, False, False,\n",
       "        True,  True,  True, False, False,  True, False, False,  True,\n",
       "        True,  True,  True, False, False,  True,  True, False, False,\n",
       "       False,  True,  True,  True, False, False,  True, False, False,\n",
       "       False, False,  True, False, False, False, False, False, False,\n",
       "       False, False, False,  True, False, False, False, False, False,\n",
       "       False,  True, False, False,  True, False, False,  True,  True,\n",
       "        True, False,  True,  True, False,  True, False, False, False,\n",
       "       False,  True, False])"
      ]
     },
     "execution_count": 52,
     "metadata": {},
     "output_type": "execute_result"
    }
   ],
   "source": [
    "cr"
   ]
  },
  {
   "cell_type": "code",
   "execution_count": 53,
   "metadata": {},
   "outputs": [
    {
     "data": {
      "text/plain": [
       "(426,)"
      ]
     },
     "execution_count": 53,
     "metadata": {},
     "output_type": "execute_result"
    }
   ],
   "source": [
    "cr.shape"
   ]
  },
  {
   "cell_type": "code",
   "execution_count": 54,
   "metadata": {},
   "outputs": [
    {
     "data": {
      "text/plain": [
       "158"
      ]
     },
     "execution_count": 54,
     "metadata": {},
     "output_type": "execute_result"
    }
   ],
   "source": [
    "sum(cr)"
   ]
  },
  {
   "cell_type": "markdown",
   "metadata": {},
   "source": [
    "####  We will be using the X_test set in place of synthetic samples.  Scale to the X_train range too."
   ]
  },
  {
   "cell_type": "code",
   "execution_count": 55,
   "metadata": {},
   "outputs": [],
   "source": [
    "test_setr = scaler.transform(X_test[:,:trim_features])"
   ]
  },
  {
   "cell_type": "code",
   "execution_count": 56,
   "metadata": {},
   "outputs": [
    {
     "data": {
      "text/plain": [
       "(143, 27)"
      ]
     },
     "execution_count": 56,
     "metadata": {},
     "output_type": "execute_result"
    }
   ],
   "source": [
    "test_setr.shape"
   ]
  },
  {
   "cell_type": "code",
   "execution_count": 57,
   "metadata": {},
   "outputs": [
    {
     "data": {
      "text/plain": [
       "NearestNeighbors()"
      ]
     },
     "execution_count": 57,
     "metadata": {},
     "output_type": "execute_result"
    }
   ],
   "source": [
    "neighr = NearestNeighbors(n_neighbors=5)\n",
    "neighr.fit(rfloats)"
   ]
  },
  {
   "cell_type": "markdown",
   "metadata": {},
   "source": [
    "#### Find the nearest neighbors to our test_setr data, the synthetic samples"
   ]
  },
  {
   "cell_type": "code",
   "execution_count": 58,
   "metadata": {},
   "outputs": [],
   "source": [
    "nndr, nnir = neighr.kneighbors(test_setr, return_distance=True)"
   ]
  },
  {
   "cell_type": "code",
   "execution_count": 59,
   "metadata": {},
   "outputs": [
    {
     "data": {
      "text/plain": [
       "array([[0.22258887, 0.25295094, 0.26743372, 0.2798781 , 0.28479658],\n",
       "       [0.21170343, 0.30000496, 0.31824835, 0.37200185, 0.37565166],\n",
       "       [0.24049137, 0.25795871, 0.30746756, 0.3302952 , 0.33833015],\n",
       "       [0.2702441 , 0.29867018, 0.29986279, 0.31260432, 0.32775909],\n",
       "       [0.30681   , 0.32709584, 0.34410999, 0.34784848, 0.36405133],\n",
       "       [0.73074048, 0.75216903, 0.78389683, 0.78606968, 0.89498035],\n",
       "       [0.34742508, 0.40008254, 0.44795745, 0.468386  , 0.47144265],\n",
       "       [0.3076041 , 0.35450466, 0.36202072, 0.36631365, 0.36828544],\n",
       "       [0.20667004, 0.32668664, 0.33725458, 0.35111556, 0.35897535],\n",
       "       [0.19131964, 0.23087909, 0.23218645, 0.26325294, 0.27500253],\n",
       "       [0.1533544 , 0.21592567, 0.23038885, 0.24536373, 0.24820088],\n",
       "       [0.24867786, 0.25678725, 0.32199003, 0.36535096, 0.37731924],\n",
       "       [0.20396369, 0.23763505, 0.24384069, 0.249601  , 0.25651756],\n",
       "       [0.50681097, 0.52342461, 0.53225564, 0.53227167, 0.54869143],\n",
       "       [0.21343223, 0.21598096, 0.24030668, 0.24080026, 0.25680627],\n",
       "       [0.62849456, 0.66682161, 0.66804376, 0.67251145, 0.67363734],\n",
       "       [0.17487873, 0.18508117, 0.19811569, 0.22528897, 0.2444503 ],\n",
       "       [0.29009682, 0.29211352, 0.31192222, 0.34323664, 0.35677492],\n",
       "       [0.44670038, 0.45460014, 0.48772182, 0.50701877, 0.51799619],\n",
       "       [0.34332175, 0.36200697, 0.3805766 , 0.39446989, 0.40330694],\n",
       "       [0.25854481, 0.27251639, 0.27255744, 0.28195855, 0.31404695],\n",
       "       [0.21625072, 0.22669944, 0.24435845, 0.24986146, 0.26584155],\n",
       "       [0.40381153, 0.42788518, 0.47159617, 0.50575276, 0.54313127],\n",
       "       [0.16193901, 0.28239568, 0.31565818, 0.32620322, 0.33789656],\n",
       "       [0.318294  , 0.36354842, 0.3826959 , 0.38445409, 0.38641212],\n",
       "       [0.49223825, 0.50015348, 0.52103344, 0.5237872 , 0.53472654],\n",
       "       [0.19554622, 0.21850792, 0.23637806, 0.23833273, 0.26051466],\n",
       "       [0.35145797, 0.35601478, 0.41995301, 0.43787654, 0.43882735],\n",
       "       [0.18055344, 0.20428535, 0.21326626, 0.21489795, 0.22052103],\n",
       "       [0.36977411, 0.52762489, 0.54619579, 0.54748318, 0.55088522],\n",
       "       [0.3308388 , 0.34067432, 0.34506492, 0.34739253, 0.35321415],\n",
       "       [0.16185959, 0.16193289, 0.18880661, 0.19483537, 0.23387138],\n",
       "       [0.47467394, 0.48513386, 0.49046514, 0.49182271, 0.5011462 ],\n",
       "       [0.18510298, 0.21512629, 0.22336028, 0.23168912, 0.23959279],\n",
       "       [0.18937495, 0.26430376, 0.27445823, 0.29691395, 0.29810991],\n",
       "       [0.20741475, 0.29259869, 0.29596655, 0.30282634, 0.30364065],\n",
       "       [0.1890421 , 0.25959005, 0.28274399, 0.31121175, 0.35278135],\n",
       "       [0.37423423, 0.38512979, 0.38540824, 0.39486812, 0.4023455 ],\n",
       "       [0.14227875, 0.20321292, 0.24061854, 0.26503477, 0.27152413],\n",
       "       [0.15950584, 0.22088531, 0.24510299, 0.26248148, 0.26886892],\n",
       "       [0.30696222, 0.30892756, 0.31924239, 0.33144822, 0.33442622],\n",
       "       [0.42397919, 0.42650229, 0.42809231, 0.42967929, 0.43409381],\n",
       "       [0.23496063, 0.26836426, 0.26896075, 0.27131117, 0.28201526],\n",
       "       [0.14842031, 0.16369371, 0.16810678, 0.18622196, 0.19113793],\n",
       "       [0.49323254, 0.50288596, 0.51459525, 0.53325139, 0.53629647],\n",
       "       [0.31609845, 0.33480496, 0.38389475, 0.38475173, 0.38824872],\n",
       "       [0.51524306, 0.58749849, 0.60083483, 0.67603903, 0.68030161],\n",
       "       [0.38166907, 0.45996985, 0.49499936, 0.52432278, 0.52993688],\n",
       "       [0.25479935, 0.29713248, 0.30917929, 0.3196877 , 0.32393955],\n",
       "       [0.25654076, 0.27956551, 0.303275  , 0.30438022, 0.36530208],\n",
       "       [0.24512913, 0.25319604, 0.30417789, 0.3385348 , 0.35621431],\n",
       "       [0.32817209, 0.36217765, 0.39544169, 0.40749834, 0.40957042],\n",
       "       [0.32789045, 0.36669992, 0.37075927, 0.38407915, 0.39142772],\n",
       "       [0.51122442, 0.56832774, 0.58147535, 0.58432923, 0.63649261],\n",
       "       [0.40583581, 0.457917  , 0.47651487, 0.49882535, 0.51125222],\n",
       "       [0.17660776, 0.2393828 , 0.24477207, 0.26105452, 0.27021525],\n",
       "       [0.27625563, 0.28460923, 0.31403923, 0.33208207, 0.36842775],\n",
       "       [0.58794039, 0.6217873 , 0.62394285, 0.64145599, 0.69105432],\n",
       "       [0.24383952, 0.28012814, 0.28681614, 0.28835103, 0.29374943],\n",
       "       [0.17768117, 0.2068094 , 0.21293123, 0.21890469, 0.22262919],\n",
       "       [0.15968359, 0.17519158, 0.17561543, 0.18080689, 0.20560027],\n",
       "       [0.3774082 , 0.38147223, 0.387962  , 0.38886537, 0.39385719],\n",
       "       [0.52756631, 0.53599804, 0.55110477, 0.57360208, 0.57567116],\n",
       "       [0.25982308, 0.27300092, 0.27470669, 0.28823776, 0.32449208],\n",
       "       [0.14015859, 0.23799255, 0.24715604, 0.25467486, 0.25719199],\n",
       "       [0.32814931, 0.34243513, 0.3579492 , 0.36709497, 0.36940785],\n",
       "       [0.36834351, 0.36947393, 0.42105498, 0.43461877, 0.44148056],\n",
       "       [1.00703401, 1.10281682, 1.11685383, 1.1542739 , 1.22073133],\n",
       "       [0.23790682, 0.29620123, 0.30608998, 0.32334859, 0.33011292],\n",
       "       [0.26756656, 0.2919757 , 0.30613619, 0.32735788, 0.32860693],\n",
       "       [0.41261393, 0.45442676, 0.46398636, 0.47595614, 0.48041673],\n",
       "       [0.30200656, 0.30433326, 0.31096643, 0.39303696, 0.40547464],\n",
       "       [0.20266931, 0.20645057, 0.23538849, 0.26274919, 0.26978684],\n",
       "       [0.26359726, 0.27135774, 0.35891969, 0.36553649, 0.373916  ],\n",
       "       [0.46307795, 0.49662711, 0.50973854, 0.51985242, 0.52723172],\n",
       "       [0.19862302, 0.20428714, 0.25758687, 0.27922025, 0.28923907],\n",
       "       [0.23019105, 0.2370025 , 0.26237255, 0.26530871, 0.27361253],\n",
       "       [0.23941706, 0.28629864, 0.29795377, 0.30516219, 0.3350706 ],\n",
       "       [0.22310271, 0.22579077, 0.25450095, 0.26147184, 0.26212975],\n",
       "       [0.29473295, 0.31991978, 0.32130669, 0.32556992, 0.35886076],\n",
       "       [0.29850102, 0.3295042 , 0.34966782, 0.37229027, 0.38160301],\n",
       "       [0.21168455, 0.2344622 , 0.23626402, 0.24685306, 0.24719157],\n",
       "       [0.35368382, 0.3766091 , 0.38533569, 0.39493802, 0.421384  ],\n",
       "       [0.44490581, 0.4595681 , 0.49183878, 0.51987661, 0.52328745],\n",
       "       [0.21623579, 0.36150081, 0.3782786 , 0.38613277, 0.40761891],\n",
       "       [0.53292704, 0.53601655, 0.56352889, 0.58570136, 0.58820208],\n",
       "       [0.62593298, 0.64766409, 0.82325482, 0.85686532, 0.94150796],\n",
       "       [0.53040333, 0.56020197, 0.59025211, 0.60778235, 0.6093076 ],\n",
       "       [0.20454562, 0.36514232, 0.3914884 , 0.43340509, 0.47287039],\n",
       "       [0.26165182, 0.28237437, 0.30997262, 0.32737699, 0.32929044],\n",
       "       [0.1847217 , 0.23431519, 0.23643508, 0.23802107, 0.25858637],\n",
       "       [0.29871174, 0.30144251, 0.30685386, 0.33188593, 0.34413138],\n",
       "       [0.31022987, 0.35325912, 0.35454794, 0.37137787, 0.38126857],\n",
       "       [0.44298065, 0.64378355, 0.64920471, 0.676862  , 0.69560651],\n",
       "       [0.41259236, 0.42266506, 0.42764419, 0.43372299, 0.44594371],\n",
       "       [0.33563614, 0.35564096, 0.36533558, 0.37082646, 0.39012938],\n",
       "       [0.42661187, 0.48633388, 0.4987181 , 0.50491577, 0.51965894],\n",
       "       [0.53642548, 0.55439459, 0.57681773, 0.59445827, 0.59614084],\n",
       "       [0.2341793 , 0.24700576, 0.27960478, 0.28540842, 0.28558955],\n",
       "       [0.37726601, 0.46617554, 0.47660399, 0.4801249 , 0.48588932],\n",
       "       [0.26510933, 0.29162841, 0.31430975, 0.34885971, 0.36311558],\n",
       "       [0.24909026, 0.31081776, 0.32575855, 0.3425492 , 0.3547987 ],\n",
       "       [0.5117959 , 0.56403203, 0.56670446, 0.57256966, 0.60615842],\n",
       "       [0.23555271, 0.27169232, 0.2942845 , 0.30339383, 0.31271206],\n",
       "       [0.28893887, 0.34675178, 0.35242334, 0.35606558, 0.36753463],\n",
       "       [0.2175127 , 0.23116181, 0.2970951 , 0.32726109, 0.33067592],\n",
       "       [0.28477984, 0.29184207, 0.30838467, 0.30896339, 0.30912546],\n",
       "       [0.49959909, 0.52966913, 0.53492067, 0.56740527, 0.62110786],\n",
       "       [0.231732  , 0.24888914, 0.26537606, 0.26885756, 0.27817646],\n",
       "       [0.22705377, 0.24497476, 0.25960944, 0.25996444, 0.26715444],\n",
       "       [0.33726674, 0.40097038, 0.40298154, 0.40304404, 0.41578614],\n",
       "       [0.19888917, 0.22217492, 0.2252775 , 0.23187842, 0.24334899],\n",
       "       [0.41225147, 0.41742133, 0.43267136, 0.44845386, 0.45113018],\n",
       "       [0.55508736, 0.60692113, 0.6849262 , 0.7346669 , 0.77605959],\n",
       "       [1.01428652, 1.09159606, 1.10784823, 1.13241353, 1.15398129],\n",
       "       [0.62661044, 0.63155706, 0.71580675, 0.71837244, 0.72302658],\n",
       "       [0.46054764, 0.50574285, 0.53177166, 0.56926141, 0.57494592],\n",
       "       [0.29553768, 0.33687578, 0.34369596, 0.34811584, 0.36226483],\n",
       "       [0.44448536, 0.53435338, 0.65398787, 0.65638266, 0.65957753],\n",
       "       [0.36408013, 0.37261201, 0.40285024, 0.4468978 , 0.47908382],\n",
       "       [0.68312698, 0.75582151, 0.79664189, 0.89956608, 0.91580756],\n",
       "       [0.15272406, 0.20300374, 0.20533479, 0.2158088 , 0.22469106],\n",
       "       [0.16363544, 0.19813904, 0.19834092, 0.20731638, 0.20789568],\n",
       "       [0.21313266, 0.23463306, 0.24985377, 0.296999  , 0.32172772],\n",
       "       [0.24484491, 0.25356618, 0.26977057, 0.28347607, 0.2977544 ],\n",
       "       [0.36486888, 0.37184146, 0.38158118, 0.38508224, 0.38865962],\n",
       "       [0.31569606, 0.32657663, 0.3343558 , 0.34018431, 0.35929584],\n",
       "       [0.28070474, 0.30700003, 0.31101428, 0.33452581, 0.33530919],\n",
       "       [0.15951558, 0.16034225, 0.18872073, 0.20125766, 0.20505818],\n",
       "       [0.4257791 , 0.44678614, 0.4736746 , 0.48809183, 0.50638423],\n",
       "       [0.75588365, 0.84032277, 0.84638074, 0.86319366, 0.86426339],\n",
       "       [0.62745911, 0.72078461, 0.78502213, 0.80939608, 0.84189166],\n",
       "       [0.19974693, 0.20468182, 0.24624558, 0.27485361, 0.28891626],\n",
       "       [0.23430702, 0.23561767, 0.25807894, 0.26121467, 0.27180536],\n",
       "       [0.26339439, 0.31626744, 0.31797147, 0.3343618 , 0.34148156],\n",
       "       [0.43142157, 0.5978178 , 0.63140906, 0.63948537, 0.67876758],\n",
       "       [0.27128539, 0.29563171, 0.30116303, 0.30929877, 0.32303529],\n",
       "       [0.26853186, 0.39098004, 0.39588528, 0.45513633, 0.45714021],\n",
       "       [0.2987367 , 0.34845966, 0.37590137, 0.38174974, 0.39453959],\n",
       "       [0.21491542, 0.24694155, 0.254657  , 0.28454778, 0.28465974],\n",
       "       [0.22217723, 0.24392386, 0.2466652 , 0.25677772, 0.27359701],\n",
       "       [0.36819   , 0.37667065, 0.37982104, 0.38173908, 0.44002101],\n",
       "       [0.23183015, 0.25304762, 0.25872364, 0.27992164, 0.29574133]])"
      ]
     },
     "execution_count": 59,
     "metadata": {},
     "output_type": "execute_result"
    }
   ],
   "source": [
    "nndr"
   ]
  },
  {
   "cell_type": "code",
   "execution_count": 60,
   "metadata": {},
   "outputs": [
    {
     "data": {
      "text/plain": [
       "array([[ 37, 311,  87, 181, 146],\n",
       "       [195, 121, 371, 312,  99],\n",
       "       [160, 156, 322, 230, 202],\n",
       "       [228,  22,  37, 357, 339],\n",
       "       [ 22, 293, 155,  67,  72],\n",
       "       [191,  12, 251, 389, 192],\n",
       "       [179,  83, 320, 332, 381],\n",
       "       [ 40, 156,  41, 360, 163],\n",
       "       [303, 306, 127, 101, 362],\n",
       "       [386,  28,  60,  31, 137],\n",
       "       [415,  86, 325, 327, 122],\n",
       "       [346,  40, 244, 241, 151],\n",
       "       [100, 212, 174,  57,  98],\n",
       "       [241, 204, 211, 380, 417],\n",
       "       [185, 364, 214, 378, 237],\n",
       "       [379, 196, 370,  13, 136],\n",
       "       [201, 137,  15, 275,  57],\n",
       "       [284, 153, 278, 269, 355],\n",
       "       [321, 158, 282, 284, 123],\n",
       "       [157, 413, 320, 183, 206],\n",
       "       [127, 374, 107, 271, 420],\n",
       "       [311, 272, 268, 169, 267],\n",
       "       [192, 320, 389, 191, 157],\n",
       "       [343, 110,  64, 425, 117],\n",
       "       [ 51,  84,  50, 213, 340],\n",
       "       [330, 199,  87, 113, 411],\n",
       "       [395, 317, 261, 125, 145],\n",
       "       [250, 215, 245,  82, 391],\n",
       "       [ 10,  35, 141, 147, 209],\n",
       "       [265, 375, 324, 399, 116],\n",
       "       [363,  49, 166, 140,  51],\n",
       "       [319, 214, 185, 364, 348],\n",
       "       [165, 199, 321, 221, 284],\n",
       "       [200, 185,  15, 358, 227],\n",
       "       [284, 272, 153, 267, 268],\n",
       "       [350,  51, 342,  81, 272],\n",
       "       [ 33, 105,   7,  24, 207],\n",
       "       [  8, 287, 208, 350, 180],\n",
       "       [230, 312, 322, 289, 156],\n",
       "       [ 32,  24, 213,  53, 212],\n",
       "       [284, 153, 169,  51, 272],\n",
       "       [160, 331, 220, 256, 412],\n",
       "       [203, 271, 314, 268, 109],\n",
       "       [132,  90,  48, 249, 141],\n",
       "       [155, 268, 403, 330, 180],\n",
       "       [236, 325, 139, 146, 132],\n",
       "       [ 69, 304, 113,  72,  39],\n",
       "       [ 89, 152, 402,  14,  50],\n",
       "       [236, 139, 146, 290, 311],\n",
       "       [288,  29, 145,  20, 396],\n",
       "       [230, 312, 156, 322, 260],\n",
       "       [206, 307, 183, 157,  61],\n",
       "       [362, 303, 127,  43, 228],\n",
       "       [155, 326, 211, 159, 268],\n",
       "       [ 69, 411,  72,  22, 113],\n",
       "       [240,  48, 274, 174, 249],\n",
       "       [357,  72,  22,  67, 203],\n",
       "       [177, 191, 179,  93, 389],\n",
       "       [424, 254, 127, 362, 154],\n",
       "       [301, 266, 214, 319, 372],\n",
       "       [ 10, 209, 146, 141,  48],\n",
       "       [334, 157, 286, 188, 183],\n",
       "       [381, 157, 332,  62, 291],\n",
       "       [176,  24, 335, 415, 122],\n",
       "       [ 64, 117,  84, 425, 212],\n",
       "       [270, 418,  66, 366,  53],\n",
       "       [ 80, 285, 324, 265, 283],\n",
       "       [277,  59,  12, 189, 234],\n",
       "       [269,  51, 153, 267, 340],\n",
       "       [228, 107,  65, 181, 142],\n",
       "       [ 26, 331, 167, 256, 133],\n",
       "       [202, 375, 416, 264,  77],\n",
       "       [212,  98, 100, 213, 233],\n",
       "       [ 92, 257, 126, 416, 375],\n",
       "       [278,  68,  82,   9, 110],\n",
       "       [271, 420, 178,  36, 372],\n",
       "       [ 32, 212, 415,  86, 325],\n",
       "       [107, 271, 362, 127, 228],\n",
       "       [ 16, 262, 238,  63, 310],\n",
       "       [113, 268, 203,  87, 330],\n",
       "       [202, 160,  40,  77, 412],\n",
       "       [143,  16, 342, 227, 383],\n",
       "       [412,  91, 406, 384, 211],\n",
       "       [320, 389, 332, 206, 136],\n",
       "       [ 33,   7, 312, 108, 151],\n",
       "       [ 80, 369, 328, 101,  55],\n",
       "       [336, 333, 294, 324, 365],\n",
       "       [130, 334, 136, 324, 292],\n",
       "       [124, 129,  46, 276,  20],\n",
       "       [109, 372, 314, 268, 301],\n",
       "       [ 81,  35, 140, 187, 146],\n",
       "       [254, 127, 109,  37, 420],\n",
       "       [194, 252, 305,  97,  88],\n",
       "       [ 89, 402, 152, 353, 235],\n",
       "       [ 51, 138, 269, 221,  68],\n",
       "       [ 67, 382,  74, 222, 278],\n",
       "       [226, 273, 114, 196, 316],\n",
       "       [ 26,  80, 283, 331, 328],\n",
       "       [404, 266,  23, 106, 143],\n",
       "       [354,   3, 360, 171, 312],\n",
       "       [108,   7, 207, 360, 202],\n",
       "       [123, 401, 404, 143, 296],\n",
       "       [334, 103, 308,  41, 280],\n",
       "       [322, 230, 286, 160, 156],\n",
       "       [377, 269,  84, 152, 340],\n",
       "       [222, 267,  37,  10, 164],\n",
       "       [222, 293, 359,  37, 373],\n",
       "       [229,  83, 197, 381, 345],\n",
       "       [107,  88, 271, 252,  44],\n",
       "       [174,  28, 105, 240, 270],\n",
       "       [ 40, 156, 360, 108, 313],\n",
       "       [314, 268,  73, 272, 266],\n",
       "       [295, 245, 353, 391, 215],\n",
       "       [205,  96, 345, 381, 226],\n",
       "       [239, 259, 172, 198, 134],\n",
       "       [389, 192, 251, 292, 191],\n",
       "       [287, 363, 166,  51,  68],\n",
       "       [377,  82, 269, 325, 169],\n",
       "       [199, 165,  51, 284,  70],\n",
       "       [265, 116, 118, 328, 333],\n",
       "       [ 25, 198, 175, 218, 135],\n",
       "       [141,  35, 185, 209, 378],\n",
       "       [ 35, 141, 140, 378, 187],\n",
       "       [289, 286, 322, 230, 217],\n",
       "       [140, 311, 359, 377,  53],\n",
       "       [157, 217, 226, 289, 195],\n",
       "       [ 80, 315, 306, 285,   1],\n",
       "       [140, 153, 377,  75, 284],\n",
       "       [378, 200, 185, 240, 227],\n",
       "       [171,  61, 265, 344,   3],\n",
       "       [ 55, 389, 251,  12, 332],\n",
       "       [294, 333, 265, 324, 150],\n",
       "       [ 28, 174, 386, 100, 335],\n",
       "       [187, 350,  64, 342, 269],\n",
       "       [261, 243, 201, 305,  88],\n",
       "       [280, 277, 150,  30,  45],\n",
       "       [412, 142,  37, 424, 131],\n",
       "       [221,  82, 304,  68, 153],\n",
       "       [326, 107, 271, 211, 194],\n",
       "       [202, 424, 362, 254, 154],\n",
       "       [267, 355, 153,  73, 296],\n",
       "       [289,  47, 217,  96,  62],\n",
       "       [296, 301, 400, 372, 214]], dtype=int64)"
      ]
     },
     "execution_count": 60,
     "metadata": {},
     "output_type": "execute_result"
    }
   ],
   "source": [
    "nnir"
   ]
  },
  {
   "cell_type": "code",
   "execution_count": 61,
   "metadata": {},
   "outputs": [
    {
     "data": {
      "text/plain": [
       "(143, 5)"
      ]
     },
     "execution_count": 61,
     "metadata": {},
     "output_type": "execute_result"
    }
   ],
   "source": [
    "nnir.shape"
   ]
  },
  {
   "cell_type": "markdown",
   "metadata": {},
   "source": [
    "#### We sort the each neighbor by distance.  NOTE: it looks like the neighbors may already be sorted!"
   ]
  },
  {
   "cell_type": "code",
   "execution_count": 62,
   "metadata": {},
   "outputs": [
    {
     "data": {
      "text/plain": [
       "array([[0, 1, 2, 3, 4],\n",
       "       [0, 1, 2, 3, 4],\n",
       "       [0, 1, 2, 3, 4],\n",
       "       [0, 1, 2, 3, 4],\n",
       "       [0, 1, 2, 3, 4],\n",
       "       [0, 1, 2, 3, 4],\n",
       "       [0, 1, 2, 3, 4],\n",
       "       [0, 1, 2, 3, 4],\n",
       "       [0, 1, 2, 3, 4],\n",
       "       [0, 1, 2, 3, 4],\n",
       "       [0, 1, 2, 3, 4],\n",
       "       [0, 1, 2, 3, 4],\n",
       "       [0, 1, 2, 3, 4],\n",
       "       [0, 1, 2, 3, 4],\n",
       "       [0, 1, 2, 3, 4],\n",
       "       [0, 1, 2, 3, 4],\n",
       "       [0, 1, 2, 3, 4],\n",
       "       [0, 1, 2, 3, 4],\n",
       "       [0, 1, 2, 3, 4],\n",
       "       [0, 1, 2, 3, 4],\n",
       "       [0, 1, 2, 3, 4],\n",
       "       [0, 1, 2, 3, 4],\n",
       "       [0, 1, 2, 3, 4],\n",
       "       [0, 1, 2, 3, 4],\n",
       "       [0, 1, 2, 3, 4],\n",
       "       [0, 1, 2, 3, 4],\n",
       "       [0, 1, 2, 3, 4],\n",
       "       [0, 1, 2, 3, 4],\n",
       "       [0, 1, 2, 3, 4],\n",
       "       [0, 1, 2, 3, 4],\n",
       "       [0, 1, 2, 3, 4],\n",
       "       [0, 1, 2, 3, 4],\n",
       "       [0, 1, 2, 3, 4],\n",
       "       [0, 1, 2, 3, 4],\n",
       "       [0, 1, 2, 3, 4],\n",
       "       [0, 1, 2, 3, 4],\n",
       "       [0, 1, 2, 3, 4],\n",
       "       [0, 1, 2, 3, 4],\n",
       "       [0, 1, 2, 3, 4],\n",
       "       [0, 1, 2, 3, 4],\n",
       "       [0, 1, 2, 3, 4],\n",
       "       [0, 1, 2, 3, 4],\n",
       "       [0, 1, 2, 3, 4],\n",
       "       [0, 1, 2, 3, 4],\n",
       "       [0, 1, 2, 3, 4],\n",
       "       [0, 1, 2, 3, 4],\n",
       "       [0, 1, 2, 3, 4],\n",
       "       [0, 1, 2, 3, 4],\n",
       "       [0, 1, 2, 3, 4],\n",
       "       [0, 1, 2, 3, 4],\n",
       "       [0, 1, 2, 3, 4],\n",
       "       [0, 1, 2, 3, 4],\n",
       "       [0, 1, 2, 3, 4],\n",
       "       [0, 1, 2, 3, 4],\n",
       "       [0, 1, 2, 3, 4],\n",
       "       [0, 1, 2, 3, 4],\n",
       "       [0, 1, 2, 3, 4],\n",
       "       [0, 1, 2, 3, 4],\n",
       "       [0, 1, 2, 3, 4],\n",
       "       [0, 1, 2, 3, 4],\n",
       "       [0, 1, 2, 3, 4],\n",
       "       [0, 1, 2, 3, 4],\n",
       "       [0, 1, 2, 3, 4],\n",
       "       [0, 1, 2, 3, 4],\n",
       "       [0, 1, 2, 3, 4],\n",
       "       [0, 1, 2, 3, 4],\n",
       "       [0, 1, 2, 3, 4],\n",
       "       [0, 1, 2, 3, 4],\n",
       "       [0, 1, 2, 3, 4],\n",
       "       [0, 1, 2, 3, 4],\n",
       "       [0, 1, 2, 3, 4],\n",
       "       [0, 1, 2, 3, 4],\n",
       "       [0, 1, 2, 3, 4],\n",
       "       [0, 1, 2, 3, 4],\n",
       "       [0, 1, 2, 3, 4],\n",
       "       [0, 1, 2, 3, 4],\n",
       "       [0, 1, 2, 3, 4],\n",
       "       [0, 1, 2, 3, 4],\n",
       "       [0, 1, 2, 3, 4],\n",
       "       [0, 1, 2, 3, 4],\n",
       "       [0, 1, 2, 3, 4],\n",
       "       [0, 1, 2, 3, 4],\n",
       "       [0, 1, 2, 3, 4],\n",
       "       [0, 1, 2, 3, 4],\n",
       "       [0, 1, 2, 3, 4],\n",
       "       [0, 1, 2, 3, 4],\n",
       "       [0, 1, 2, 3, 4],\n",
       "       [0, 1, 2, 3, 4],\n",
       "       [0, 1, 2, 3, 4],\n",
       "       [0, 1, 2, 3, 4],\n",
       "       [0, 1, 2, 3, 4],\n",
       "       [0, 1, 2, 3, 4],\n",
       "       [0, 1, 2, 3, 4],\n",
       "       [0, 1, 2, 3, 4],\n",
       "       [0, 1, 2, 3, 4],\n",
       "       [0, 1, 2, 3, 4],\n",
       "       [0, 1, 2, 3, 4],\n",
       "       [0, 1, 2, 3, 4],\n",
       "       [0, 1, 2, 3, 4],\n",
       "       [0, 1, 2, 3, 4],\n",
       "       [0, 1, 2, 3, 4],\n",
       "       [0, 1, 2, 3, 4],\n",
       "       [0, 1, 2, 3, 4],\n",
       "       [0, 1, 2, 3, 4],\n",
       "       [0, 1, 2, 3, 4],\n",
       "       [0, 1, 2, 3, 4],\n",
       "       [0, 1, 2, 3, 4],\n",
       "       [0, 1, 2, 3, 4],\n",
       "       [0, 1, 2, 3, 4],\n",
       "       [0, 1, 2, 3, 4],\n",
       "       [0, 1, 2, 3, 4],\n",
       "       [0, 1, 2, 3, 4],\n",
       "       [0, 1, 2, 3, 4],\n",
       "       [0, 1, 2, 3, 4],\n",
       "       [0, 1, 2, 3, 4],\n",
       "       [0, 1, 2, 3, 4],\n",
       "       [0, 1, 2, 3, 4],\n",
       "       [0, 1, 2, 3, 4],\n",
       "       [0, 1, 2, 3, 4],\n",
       "       [0, 1, 2, 3, 4],\n",
       "       [0, 1, 2, 3, 4],\n",
       "       [0, 1, 2, 3, 4],\n",
       "       [0, 1, 2, 3, 4],\n",
       "       [0, 1, 2, 3, 4],\n",
       "       [0, 1, 2, 3, 4],\n",
       "       [0, 1, 2, 3, 4],\n",
       "       [0, 1, 2, 3, 4],\n",
       "       [0, 1, 2, 3, 4],\n",
       "       [0, 1, 2, 3, 4],\n",
       "       [0, 1, 2, 3, 4],\n",
       "       [0, 1, 2, 3, 4],\n",
       "       [0, 1, 2, 3, 4],\n",
       "       [0, 1, 2, 3, 4],\n",
       "       [0, 1, 2, 3, 4],\n",
       "       [0, 1, 2, 3, 4],\n",
       "       [0, 1, 2, 3, 4],\n",
       "       [0, 1, 2, 3, 4],\n",
       "       [0, 1, 2, 3, 4],\n",
       "       [0, 1, 2, 3, 4],\n",
       "       [0, 1, 2, 3, 4],\n",
       "       [0, 1, 2, 3, 4],\n",
       "       [0, 1, 2, 3, 4],\n",
       "       [0, 1, 2, 3, 4]], dtype=int64)"
      ]
     },
     "execution_count": 62,
     "metadata": {},
     "output_type": "execute_result"
    }
   ],
   "source": [
    "srtr = np.argsort(nndr, axis=1)\n",
    "srtr"
   ]
  },
  {
   "cell_type": "markdown",
   "metadata": {},
   "source": [
    "#### For each synthetic element in test_setr map the class flag to each of its neighbors. e.g., if all are True/1 then all the neighbors are from the target / minority class."
   ]
  },
  {
   "cell_type": "code",
   "execution_count": 63,
   "metadata": {
    "scrolled": true
   },
   "outputs": [
    {
     "data": {
      "text/plain": [
       "array([[False, False, False, False, False],\n",
       "       [ True,  True,  True,  True,  True],\n",
       "       [ True,  True,  True,  True,  True],\n",
       "       [False, False, False, False, False],\n",
       "       [False, False, False, False, False],\n",
       "       [ True,  True,  True,  True,  True],\n",
       "       [ True,  True,  True,  True,  True],\n",
       "       [ True,  True,  True,  True,  True],\n",
       "       [ True,  True, False,  True,  True],\n",
       "       [False, False, False, False, False],\n",
       "       [False, False,  True, False, False],\n",
       "       [ True,  True,  True,  True, False],\n",
       "       [False, False, False, False, False],\n",
       "       [ True,  True, False,  True,  True],\n",
       "       [False, False, False, False, False],\n",
       "       [ True,  True,  True,  True,  True],\n",
       "       [False, False, False, False, False],\n",
       "       [False, False, False, False, False],\n",
       "       [False, False, False, False, False],\n",
       "       [ True,  True,  True,  True,  True],\n",
       "       [False,  True, False, False, False],\n",
       "       [False, False, False, False, False],\n",
       "       [ True,  True,  True,  True,  True],\n",
       "       [False, False, False, False, False],\n",
       "       [False, False, False, False, False],\n",
       "       [False, False, False, False, False],\n",
       "       [False, False, False, False, False],\n",
       "       [False, False, False, False, False],\n",
       "       [False, False, False, False, False],\n",
       "       [ True,  True,  True,  True,  True],\n",
       "       [False, False, False, False, False],\n",
       "       [False, False, False, False, False],\n",
       "       [False, False, False, False, False],\n",
       "       [False, False, False, False, False],\n",
       "       [False, False, False, False, False],\n",
       "       [False, False, False, False, False],\n",
       "       [ True,  True,  True, False,  True],\n",
       "       [False, False, False, False, False],\n",
       "       [ True,  True,  True,  True,  True],\n",
       "       [False, False, False, False, False],\n",
       "       [False, False, False, False, False],\n",
       "       [ True,  True,  True,  True,  True],\n",
       "       [False, False, False, False, False],\n",
       "       [False, False, False, False, False],\n",
       "       [False, False, False, False, False],\n",
       "       [False,  True, False, False, False],\n",
       "       [False, False, False, False, False],\n",
       "       [False, False, False, False, False],\n",
       "       [False, False, False, False, False],\n",
       "       [False, False, False, False, False],\n",
       "       [ True,  True,  True,  True,  True],\n",
       "       [ True,  True,  True,  True,  True],\n",
       "       [ True,  True, False, False, False],\n",
       "       [False, False, False, False, False],\n",
       "       [False, False, False, False, False],\n",
       "       [False, False, False, False, False],\n",
       "       [False, False, False, False, False],\n",
       "       [ True,  True,  True,  True,  True],\n",
       "       [ True,  True, False,  True,  True],\n",
       "       [False, False, False, False, False],\n",
       "       [False, False, False, False, False],\n",
       "       [ True,  True,  True,  True,  True],\n",
       "       [ True,  True,  True,  True,  True],\n",
       "       [False, False,  True, False, False],\n",
       "       [False, False, False, False, False],\n",
       "       [False, False,  True, False, False],\n",
       "       [ True,  True,  True,  True,  True],\n",
       "       [ True,  True,  True,  True,  True],\n",
       "       [False, False, False, False, False],\n",
       "       [False, False, False, False, False],\n",
       "       [ True,  True, False,  True,  True],\n",
       "       [ True,  True,  True,  True,  True],\n",
       "       [False, False, False, False, False],\n",
       "       [ True,  True,  True,  True,  True],\n",
       "       [False, False, False, False, False],\n",
       "       [False, False, False, False, False],\n",
       "       [False, False, False, False,  True],\n",
       "       [False, False,  True, False, False],\n",
       "       [False, False, False, False, False],\n",
       "       [False, False, False, False, False],\n",
       "       [ True,  True,  True,  True,  True],\n",
       "       [False, False, False, False, False],\n",
       "       [ True,  True,  True,  True, False],\n",
       "       [ True,  True,  True,  True,  True],\n",
       "       [ True,  True,  True,  True, False],\n",
       "       [ True,  True,  True,  True,  True],\n",
       "       [ True,  True,  True,  True,  True],\n",
       "       [ True,  True,  True,  True,  True],\n",
       "       [False, False, False, False, False],\n",
       "       [False, False, False, False, False],\n",
       "       [False, False, False, False, False],\n",
       "       [ True, False, False, False, False],\n",
       "       [False, False, False, False, False],\n",
       "       [False, False, False, False, False],\n",
       "       [False, False, False, False, False],\n",
       "       [False, False, False, False, False],\n",
       "       [ True,  True,  True,  True,  True],\n",
       "       [ True,  True,  True,  True,  True],\n",
       "       [False, False, False, False, False],\n",
       "       [ True,  True,  True,  True,  True],\n",
       "       [ True,  True,  True,  True,  True],\n",
       "       [False, False, False, False, False],\n",
       "       [ True,  True,  True,  True,  True],\n",
       "       [ True,  True,  True,  True,  True],\n",
       "       [False, False, False, False, False],\n",
       "       [False, False, False, False,  True],\n",
       "       [False, False, False, False, False],\n",
       "       [ True,  True,  True,  True,  True],\n",
       "       [False, False, False, False, False],\n",
       "       [False, False,  True, False, False],\n",
       "       [ True,  True,  True,  True,  True],\n",
       "       [False, False, False, False, False],\n",
       "       [ True, False, False, False, False],\n",
       "       [ True,  True,  True,  True,  True],\n",
       "       [False, False, False, False, False],\n",
       "       [ True,  True,  True,  True,  True],\n",
       "       [False, False, False, False, False],\n",
       "       [False, False, False,  True, False],\n",
       "       [False, False, False, False, False],\n",
       "       [ True,  True,  True,  True,  True],\n",
       "       [False, False, False, False, False],\n",
       "       [False, False, False, False, False],\n",
       "       [False, False, False, False, False],\n",
       "       [ True,  True,  True,  True,  True],\n",
       "       [False, False, False, False, False],\n",
       "       [ True,  True,  True,  True,  True],\n",
       "       [ True,  True,  True,  True,  True],\n",
       "       [False, False, False, False, False],\n",
       "       [False, False, False, False, False],\n",
       "       [ True,  True,  True,  True,  True],\n",
       "       [ True,  True,  True,  True,  True],\n",
       "       [ True,  True,  True,  True,  True],\n",
       "       [False, False, False, False,  True],\n",
       "       [False, False, False, False, False],\n",
       "       [False, False, False, False, False],\n",
       "       [ True,  True,  True, False,  True],\n",
       "       [ True, False, False,  True, False],\n",
       "       [False, False, False, False, False],\n",
       "       [False, False, False, False, False],\n",
       "       [ True,  True,  True,  True,  True],\n",
       "       [False, False, False, False, False],\n",
       "       [ True,  True,  True,  True,  True],\n",
       "       [False, False, False, False, False]])"
      ]
     },
     "execution_count": 63,
     "metadata": {},
     "output_type": "execute_result"
    }
   ],
   "source": [
    "nni_srtr = cr[np.take_along_axis(nnir, srtr, axis=1)]\n",
    "nni_srtr"
   ]
  },
  {
   "cell_type": "code",
   "execution_count": 64,
   "metadata": {},
   "outputs": [
    {
     "data": {
      "text/plain": [
       "(143, 5)"
      ]
     },
     "execution_count": 64,
     "metadata": {},
     "output_type": "execute_result"
    }
   ],
   "source": [
    "nni_srtr.shape"
   ]
  },
  {
   "cell_type": "markdown",
   "metadata": {},
   "source": [
    "#### Mask all test / synthetic elements where their closest neighbor,the first column in the neighbors list, is from the target class"
   ]
  },
  {
   "cell_type": "code",
   "execution_count": 65,
   "metadata": {},
   "outputs": [
    {
     "data": {
      "text/plain": [
       "array([False,  True,  True, False, False,  True,  True,  True,  True,\n",
       "       False, False,  True, False,  True, False,  True, False, False,\n",
       "       False,  True, False, False,  True, False, False, False, False,\n",
       "       False, False,  True, False, False, False, False, False, False,\n",
       "        True, False,  True, False, False,  True, False, False, False,\n",
       "       False, False, False, False, False,  True,  True,  True, False,\n",
       "       False, False, False,  True,  True, False, False,  True,  True,\n",
       "       False, False, False,  True,  True, False, False,  True,  True,\n",
       "       False,  True, False, False, False, False, False, False,  True,\n",
       "       False,  True,  True,  True,  True,  True,  True, False, False,\n",
       "       False,  True, False, False, False, False,  True,  True, False,\n",
       "        True,  True, False,  True,  True, False, False, False,  True,\n",
       "       False, False,  True, False,  True,  True, False,  True, False,\n",
       "       False, False,  True, False, False, False,  True, False,  True,\n",
       "        True, False, False,  True,  True,  True, False, False, False,\n",
       "        True,  True, False, False,  True, False,  True, False])"
      ]
     },
     "execution_count": 65,
     "metadata": {},
     "output_type": "execute_result"
    }
   ],
   "source": [
    "nni_srtr[:,0]"
   ]
  },
  {
   "cell_type": "code",
   "execution_count": 66,
   "metadata": {},
   "outputs": [
    {
     "data": {
      "text/plain": [
       "array([[0.55090847, 0.39228948, 0.53834116, ..., 0.32690348, 0.22656241,\n",
       "        0.27966278],\n",
       "       [0.38047897, 0.33040243, 0.38255797, ..., 0.5666644 , 0.23293177,\n",
       "        0.39456703],\n",
       "       [0.6322053 , 0.66351031, 0.65571205, ..., 0.63730218, 0.92334809,\n",
       "        0.97699833],\n",
       "       ...,\n",
       "       [0.28497968, 0.31044978, 0.28581591, ..., 0.48651769, 0.25225947,\n",
       "        0.35782681],\n",
       "       [0.33101523, 0.3554278 , 0.33127045, ..., 0.57073966, 0.41544679,\n",
       "        0.51696503],\n",
       "       [0.59351584, 0.42069665, 0.58386684, ..., 0.54357128, 0.31595304,\n",
       "        0.5591174 ]])"
      ]
     },
     "execution_count": 66,
     "metadata": {},
     "output_type": "execute_result"
    }
   ],
   "source": [
    "test_setr[nni_srtr[:,0]]"
   ]
  },
  {
   "cell_type": "code",
   "execution_count": 125,
   "metadata": {},
   "outputs": [
    {
     "data": {
      "text/plain": [
       "(57, 27)"
      ]
     },
     "execution_count": 125,
     "metadata": {},
     "output_type": "execute_result"
    }
   ],
   "source": [
    "test_setr[nni_srtr[:,0]].shape"
   ]
  },
  {
   "cell_type": "markdown",
   "metadata": {},
   "source": [
    "#### Mask all test / synthetic elaments that have NO neighbors in the target class"
   ]
  },
  {
   "cell_type": "code",
   "execution_count": 67,
   "metadata": {},
   "outputs": [
    {
     "data": {
      "text/plain": [
       "array([ True, False, False,  True,  True, False, False, False, False,\n",
       "        True, False, False,  True, False,  True, False,  True,  True,\n",
       "        True, False, False,  True, False,  True,  True,  True,  True,\n",
       "        True,  True, False,  True,  True,  True,  True,  True,  True,\n",
       "       False,  True, False,  True,  True, False,  True,  True,  True,\n",
       "       False,  True,  True,  True,  True, False, False, False,  True,\n",
       "        True,  True,  True, False, False,  True,  True, False, False,\n",
       "       False,  True, False, False, False,  True,  True, False, False,\n",
       "        True, False,  True,  True, False, False,  True,  True, False,\n",
       "        True, False, False, False, False, False, False,  True,  True,\n",
       "        True, False,  True,  True,  True,  True, False, False,  True,\n",
       "       False, False,  True, False, False,  True, False,  True, False,\n",
       "        True, False, False,  True, False, False,  True, False,  True,\n",
       "       False,  True, False,  True,  True,  True, False,  True, False,\n",
       "       False,  True,  True, False, False, False, False,  True,  True,\n",
       "       False, False,  True,  True, False,  True, False,  True])"
      ]
     },
     "execution_count": 67,
     "metadata": {},
     "output_type": "execute_result"
    }
   ],
   "source": [
    "np.all(~nni_srtr, axis=1)"
   ]
  },
  {
   "cell_type": "markdown",
   "metadata": {},
   "source": [
    "#### Find (mask) all test / synthetic elements where the first column is not in the target class and there is at least one column that has the target class\n",
    "\n",
    "If the first column is true, then the 2nd test will always be false, TF = T.  We can never have the TT case.\n",
    "\n",
    "If the first column is false, and all the other columns are false then we are true, FT = T.\n",
    "\n",
    "If the first column in false, and there is one other column that is true then the 2nd test if false, FF = F"
   ]
  },
  {
   "cell_type": "code",
   "execution_count": 68,
   "metadata": {
    "scrolled": true
   },
   "outputs": [
    {
     "data": {
      "text/plain": [
       "array([False, False, False, False, False, False, False, False, False,\n",
       "       False,  True, False, False, False, False, False, False, False,\n",
       "       False, False,  True, False, False, False, False, False, False,\n",
       "       False, False, False, False, False, False, False, False, False,\n",
       "       False, False, False, False, False, False, False, False, False,\n",
       "        True, False, False, False, False, False, False, False, False,\n",
       "       False, False, False, False, False, False, False, False, False,\n",
       "        True, False,  True, False, False, False, False, False, False,\n",
       "       False, False, False, False,  True,  True, False, False, False,\n",
       "       False, False, False, False, False, False, False, False, False,\n",
       "       False, False, False, False, False, False, False, False, False,\n",
       "       False, False, False, False, False, False,  True, False, False,\n",
       "       False,  True, False, False, False, False, False, False, False,\n",
       "        True, False, False, False, False, False, False, False, False,\n",
       "       False, False, False, False, False, False,  True, False, False,\n",
       "       False, False, False, False, False, False, False, False])"
      ]
     },
     "execution_count": 68,
     "metadata": {},
     "output_type": "execute_result"
    }
   ],
   "source": [
    "at_least_1_trgt = nni_srtr[:,0] ^ ~np.all(~nni_srtr, axis=1)\n",
    "at_least_1_trgt"
   ]
  },
  {
   "cell_type": "code",
   "execution_count": 69,
   "metadata": {},
   "outputs": [
    {
     "data": {
      "text/plain": [
       "(143,)"
      ]
     },
     "execution_count": 69,
     "metadata": {},
     "output_type": "execute_result"
    }
   ],
   "source": [
    "at_least_1_trgt.shape"
   ]
  },
  {
   "cell_type": "code",
   "execution_count": 70,
   "metadata": {},
   "outputs": [
    {
     "data": {
      "text/plain": [
       "11"
      ]
     },
     "execution_count": 70,
     "metadata": {},
     "output_type": "execute_result"
    }
   ],
   "source": [
    "sum(at_least_1_trgt)"
   ]
  },
  {
   "cell_type": "markdown",
   "metadata": {},
   "source": [
    "#### Indexes of nearest neighbors for each filtered synthetic element\n",
    "\n",
    "We have removed synthetic samples that have no target as their class label or that have their closest neighbor in the target class."
   ]
  },
  {
   "cell_type": "code",
   "execution_count": 71,
   "metadata": {
    "scrolled": true
   },
   "outputs": [
    {
     "data": {
      "text/plain": [
       "array([[415,  86, 325, 327, 122],\n",
       "       [127, 374, 107, 271, 420],\n",
       "       [236, 325, 139, 146, 132],\n",
       "       [176,  24, 335, 415, 122],\n",
       "       [270, 418,  66, 366,  53],\n",
       "       [ 32, 212, 415,  86, 325],\n",
       "       [107, 271, 362, 127, 228],\n",
       "       [222, 267,  37,  10, 164],\n",
       "       [174,  28, 105, 240, 270],\n",
       "       [377,  82, 269, 325, 169],\n",
       "       [ 28, 174, 386, 100, 335]], dtype=int64)"
      ]
     },
     "execution_count": 71,
     "metadata": {},
     "output_type": "execute_result"
    }
   ],
   "source": [
    "nnir_filt = nnir[at_least_1_trgt]\n",
    "nnir_filt"
   ]
  },
  {
   "cell_type": "code",
   "execution_count": 72,
   "metadata": {},
   "outputs": [
    {
     "data": {
      "text/plain": [
       "(11, 5)"
      ]
     },
     "execution_count": 72,
     "metadata": {},
     "output_type": "execute_result"
    }
   ],
   "source": [
    "nnir_filt.shape"
   ]
  },
  {
   "cell_type": "markdown",
   "metadata": {},
   "source": [
    "#### Flag the neighbors that are from the target class"
   ]
  },
  {
   "cell_type": "code",
   "execution_count": 73,
   "metadata": {
    "scrolled": true
   },
   "outputs": [
    {
     "data": {
      "text/plain": [
       "array([[False, False,  True, False, False],\n",
       "       [False,  True, False, False, False],\n",
       "       [False,  True, False, False, False],\n",
       "       [False, False,  True, False, False],\n",
       "       [False, False,  True, False, False],\n",
       "       [False, False, False, False,  True],\n",
       "       [False, False,  True, False, False],\n",
       "       [False, False, False, False,  True],\n",
       "       [False, False,  True, False, False],\n",
       "       [False, False, False,  True, False],\n",
       "       [False, False, False, False,  True]])"
      ]
     },
     "execution_count": 73,
     "metadata": {},
     "output_type": "execute_result"
    }
   ],
   "source": [
    "nnir_filt_flag = cr[nnir_filt]\n",
    "nnir_filt_flag"
   ]
  },
  {
   "cell_type": "code",
   "execution_count": 74,
   "metadata": {},
   "outputs": [
    {
     "data": {
      "text/plain": [
       "(11, 5)"
      ]
     },
     "execution_count": 74,
     "metadata": {},
     "output_type": "execute_result"
    }
   ],
   "source": [
    "nnir_filt_flag.shape"
   ]
  },
  {
   "cell_type": "markdown",
   "metadata": {},
   "source": [
    "Double cumsum to isolate the 1's"
   ]
  },
  {
   "cell_type": "code",
   "execution_count": 75,
   "metadata": {},
   "outputs": [
    {
     "data": {
      "text/plain": [
       "array([[False, False,  True, False, False],\n",
       "       [False,  True, False, False, False],\n",
       "       [False,  True, False, False, False],\n",
       "       [False, False,  True, False, False],\n",
       "       [False, False,  True, False, False],\n",
       "       [False, False, False, False,  True],\n",
       "       [False, False,  True, False, False],\n",
       "       [False, False, False, False,  True],\n",
       "       [False, False,  True, False, False],\n",
       "       [False, False, False,  True, False],\n",
       "       [False, False, False, False,  True]])"
      ]
     },
     "execution_count": 75,
     "metadata": {},
     "output_type": "execute_result"
    }
   ],
   "source": [
    "nnb_flag = ~(np.cumsum(np.cumsum(nnir_filt_flag, axis=1), axis=1) != 1)\n",
    "nnb_flag"
   ]
  },
  {
   "cell_type": "code",
   "execution_count": 76,
   "metadata": {},
   "outputs": [
    {
     "data": {
      "text/plain": [
       "array([[415,  86, 325, 327, 122],\n",
       "       [127, 374, 107, 271, 420],\n",
       "       [236, 325, 139, 146, 132],\n",
       "       [176,  24, 335, 415, 122],\n",
       "       [270, 418,  66, 366,  53],\n",
       "       [ 32, 212, 415,  86, 325],\n",
       "       [107, 271, 362, 127, 228],\n",
       "       [222, 267,  37,  10, 164],\n",
       "       [174,  28, 105, 240, 270],\n",
       "       [377,  82, 269, 325, 169],\n",
       "       [ 28, 174, 386, 100, 335]], dtype=int64)"
      ]
     },
     "execution_count": 76,
     "metadata": {},
     "output_type": "execute_result"
    }
   ],
   "source": [
    "nnir[at_least_1_trgt]"
   ]
  },
  {
   "cell_type": "markdown",
   "metadata": {},
   "source": [
    "#### Indexes to the closet neighbor that is in the target / minority class, nnb"
   ]
  },
  {
   "cell_type": "code",
   "execution_count": 77,
   "metadata": {},
   "outputs": [
    {
     "data": {
      "text/plain": [
       "array([325, 374, 325, 335,  66, 325, 362, 164, 105, 325, 335], dtype=int64)"
      ]
     },
     "execution_count": 77,
     "metadata": {},
     "output_type": "execute_result"
    }
   ],
   "source": [
    "nni_nnb = nnir[at_least_1_trgt][nnb_flag]\n",
    "nni_nnb"
   ]
  },
  {
   "cell_type": "code",
   "execution_count": 78,
   "metadata": {},
   "outputs": [
    {
     "data": {
      "text/plain": [
       "(11,)"
      ]
     },
     "execution_count": 78,
     "metadata": {},
     "output_type": "execute_result"
    }
   ],
   "source": [
    "nni_nnb.shape"
   ]
  },
  {
   "cell_type": "markdown",
   "metadata": {},
   "source": [
    "#### Rowwise index to the to nnb for each synthetic sample"
   ]
  },
  {
   "cell_type": "code",
   "execution_count": 79,
   "metadata": {},
   "outputs": [
    {
     "data": {
      "text/plain": [
       "array([2, 1, 1, 2, 2, 4, 2, 4, 2, 3, 4], dtype=int64)"
      ]
     },
     "execution_count": 79,
     "metadata": {},
     "output_type": "execute_result"
    }
   ],
   "source": [
    "nnb_idx = np.argmax(nnb_flag, axis=1)\n",
    "nnb_idx"
   ]
  },
  {
   "cell_type": "markdown",
   "metadata": {},
   "source": [
    "#### Rowwise index to the closest majority neighbor to nnb for each synthetic sample"
   ]
  },
  {
   "cell_type": "code",
   "execution_count": 80,
   "metadata": {},
   "outputs": [
    {
     "data": {
      "text/plain": [
       "array([1, 0, 0, 1, 1, 3, 1, 3, 1, 2, 3], dtype=int64)"
      ]
     },
     "execution_count": 80,
     "metadata": {},
     "output_type": "execute_result"
    }
   ],
   "source": [
    "nna_max_idx = nnb_idx - 1\n",
    "nna_max_idx"
   ]
  },
  {
   "cell_type": "code",
   "execution_count": 81,
   "metadata": {},
   "outputs": [
    {
     "data": {
      "text/plain": [
       "(11,)"
      ]
     },
     "execution_count": 81,
     "metadata": {},
     "output_type": "execute_result"
    }
   ],
   "source": [
    "nna_max_idx.shape"
   ]
  },
  {
   "cell_type": "markdown",
   "metadata": {},
   "source": [
    "#### Indexes of our filtered synthetic elements"
   ]
  },
  {
   "cell_type": "code",
   "execution_count": 82,
   "metadata": {},
   "outputs": [
    {
     "data": {
      "text/plain": [
       "array([ 10,  20,  45,  63,  65,  76,  77, 105, 109, 117, 132])"
      ]
     },
     "execution_count": 82,
     "metadata": {},
     "output_type": "execute_result"
    }
   ],
   "source": [
    "test_setr_idx = np.arange(test_setr.shape[0])[at_least_1_trgt]\n",
    "test_setr_idx"
   ]
  },
  {
   "cell_type": "code",
   "execution_count": 83,
   "metadata": {},
   "outputs": [
    {
     "data": {
      "text/plain": [
       "(11,)"
      ]
     },
     "execution_count": 83,
     "metadata": {},
     "output_type": "execute_result"
    }
   ],
   "source": [
    "test_setr_idx.shape"
   ]
  },
  {
   "cell_type": "markdown",
   "metadata": {},
   "source": [
    "#### The filtered set of synthetic samples"
   ]
  },
  {
   "cell_type": "code",
   "execution_count": 84,
   "metadata": {
    "scrolled": true
   },
   "outputs": [
    {
     "data": {
      "text/plain": [
       "array([[0.27028748, 0.52553263, 0.25736236, 0.15768472, 0.31849779,\n",
       "        0.1118759 , 0.06494845, 0.1027833 , 0.24132408, 0.12384162,\n",
       "        0.03508963, 0.21875   , 0.02624511, 0.02013082, 0.13784546,\n",
       "        0.04378586, 0.03813131, 0.12220117, 0.10429654, 0.03224023,\n",
       "        0.20729479, 0.59195096, 0.18707742, 0.1015532 , 0.39210759,\n",
       "        0.08676601, 0.14467111],\n",
       "       [0.29918213, 0.2056138 , 0.3023901 , 0.17750794, 0.43396226,\n",
       "        0.37196082, 0.18249766, 0.25193837, 0.2642819 , 0.33066554,\n",
       "        0.0605468 , 0.0575274 , 0.05654243, 0.03090785, 0.10211782,\n",
       "        0.13817707, 0.04441919, 0.17438909, 0.08059278, 0.07722178,\n",
       "        0.28842921, 0.23560768, 0.28371715, 0.14608972, 0.47497113,\n",
       "        0.35900111, 0.28923813],\n",
       "       [0.17870611, 0.39059858, 0.17470479, 0.09701364, 0.31560892,\n",
       "        0.15879049, 0.1202671 , 0.0943837 , 0.17084891, 0.32287279,\n",
       "        0.0445048 , 0.13832656, 0.0395797 , 0.01794553, 0.25155522,\n",
       "        0.10002403, 0.06169192, 0.12189809, 0.14554481, 0.05466191,\n",
       "        0.15832176, 0.4565565 , 0.14996696, 0.07306967, 0.67058344,\n",
       "        0.2111881 , 0.32472939],\n",
       "       [0.32856653, 0.58437606, 0.31533646, 0.20411053, 0.15636003,\n",
       "        0.1124923 , 0.0814433 , 0.08633201, 0.28830753, 0.09203875,\n",
       "        0.04345464, 0.12177334, 0.04570513, 0.02562206, 0.12383996,\n",
       "        0.10918677, 0.04977273, 0.12066679, 0.11680167, 0.03445131,\n",
       "        0.24566918, 0.53198294, 0.23338925, 0.12678642, 0.20736263,\n",
       "        0.13036316, 0.15320566],\n",
       "       [0.24139282, 0.48224552, 0.23780054, 0.13987814, 0.23833168,\n",
       "        0.19145949, 0.12741331, 0.10119284, 0.18526428, 0.21545914,\n",
       "        0.04830708, 0.15598479, 0.03241766, 0.02186784, 0.11748309,\n",
       "        0.15537597, 0.07616162, 0.16463345, 0.10765613, 0.08679159,\n",
       "        0.20181273, 0.5141258 , 0.18392558, 0.09934498, 0.3499966 ,\n",
       "        0.34933726, 0.40705662],\n",
       "       [0.31044615, 0.3902604 , 0.29783753, 0.18578907, 0.34368511,\n",
       "        0.17146086, 0.03425492, 0.09423459, 0.18686599, 0.17670598,\n",
       "        0.05337679, 0.25256365, 0.04287801, 0.0285171 , 0.19294965,\n",
       "        0.08695587, 0.01843939, 0.19018754, 0.08861846, 0.07013944,\n",
       "        0.24311088, 0.48667377, 0.22256113, 0.12204744, 0.39074917,\n",
       "        0.13618344, 0.06485221],\n",
       "       [0.30701797, 0.24822455, 0.30950349, 0.18535999, 0.51430893,\n",
       "        0.37161838, 0.22935801, 0.26073559, 0.395622  , 0.23883741,\n",
       "        0.11352526, 0.09936351, 0.08509636, 0.05404951, 0.15766394,\n",
       "        0.18429116, 0.07876263, 0.25421481, 0.23774684, 0.06219339,\n",
       "        0.28185074, 0.26785714, 0.27253317, 0.14946407, 0.54357128,\n",
       "        0.32825249, 0.33399251],\n",
       "       [0.19878544, 0.26547176, 0.19896145, 0.1083412 , 0.49354518,\n",
       "        0.26624889, 0.1237582 , 0.22067594, 0.23011212, 0.35404381,\n",
       "        0.11837769, 0.34184936, 0.11270791, 0.04456124, 0.16568651,\n",
       "        0.11940097, 0.04386364, 0.24928964, 0.1953787 , 0.04916877,\n",
       "        0.17622981, 0.42537313, 0.17299578, 0.08155518, 0.43286015,\n",
       "        0.17363086, 0.14217319],\n",
       "       [0.34032029, 0.24146094, 0.3292787 , 0.2126491 , 0.30495622,\n",
       "        0.16300253, 0.12164948, 0.13871769, 0.12920448, 0.07561078,\n",
       "        0.03943509, 0.14272454, 0.03364275, 0.02461347, 0.06193698,\n",
       "        0.08770691, 0.04545455, 0.11638568, 0.08693867, 0.01120048,\n",
       "        0.28440903, 0.35767591, 0.26185756, 0.15070464, 0.2922638 ,\n",
       "        0.19735123, 0.2536428 ],\n",
       "       [0.14491405, 0.52451809, 0.14290795, 0.07577448, 0.3966778 ,\n",
       "        0.18135744, 0.05574039, 0.08026839, 0.38974907, 0.28074979,\n",
       "        0.05004527, 0.25035361, 0.03486783, 0.01837512, 0.18615087,\n",
       "        0.06081954, 0.02729798, 0.11829892, 0.25566464, 0.05956773,\n",
       "        0.13054601, 0.61753731, 0.11941437, 0.05758734, 0.53474156,\n",
       "        0.12355454, 0.11708993],\n",
       "       [0.32171017, 0.28610078, 0.30800967, 0.19853257, 0.1185339 ,\n",
       "        0.11238956, 0.05798969, 0.06829026, 0.24986652, 0.12426285,\n",
       "        0.04291146, 0.06824611, 0.0425953 , 0.02569677, 0.04949519,\n",
       "        0.08650524, 0.02724747, 0.09931805, 0.05875546, 0.03669693,\n",
       "        0.27563775, 0.35287846, 0.26084083, 0.14790095, 0.15811995,\n",
       "        0.20800343, 0.1628851 ]])"
      ]
     },
     "execution_count": 84,
     "metadata": {},
     "output_type": "execute_result"
    }
   ],
   "source": [
    "test_setr_filt = test_setr[at_least_1_trgt]\n",
    "test_setr_filt"
   ]
  },
  {
   "cell_type": "code",
   "execution_count": 85,
   "metadata": {},
   "outputs": [
    {
     "data": {
      "text/plain": [
       "(11, 27)"
      ]
     },
     "execution_count": 85,
     "metadata": {},
     "output_type": "execute_result"
    }
   ],
   "source": [
    "test_setr_filt.shape"
   ]
  },
  {
   "cell_type": "markdown",
   "metadata": {},
   "source": [
    "#### The location of our nearest target class nearghbors"
   ]
  },
  {
   "cell_type": "code",
   "execution_count": 86,
   "metadata": {
    "scrolled": true
   },
   "outputs": [
    {
     "data": {
      "text/plain": [
       "array([[2.48738920e-01, 4.31518431e-01, 2.40432494e-01, 1.44125976e-01,\n",
       "        3.42330956e-01, 1.30915691e-01, 1.10379569e-01, 1.34393638e-01,\n",
       "        2.23171383e-01, 2.25147430e-01, 4.53376788e-02, 2.25380127e-01,\n",
       "        3.29830844e-02, 2.44080105e-02, 1.96688989e-01, 7.33619731e-02,\n",
       "        5.88888889e-02, 1.68971396e-01, 1.60289671e-01, 5.99132153e-02,\n",
       "        2.12411373e-01, 5.69029851e-01, 1.90890143e-01, 1.06689162e-01,\n",
       "        4.80404809e-01, 1.37281602e-01, 2.26582015e-01],\n",
       "       [3.63827807e-01, 2.35711870e-01, 3.61786883e-01, 2.34360251e-01,\n",
       "        3.26171346e-01, 2.61968358e-01, 1.76897844e-01, 2.02733598e-01,\n",
       "        2.27976508e-01, 2.08508846e-01, 5.77946768e-02, 4.19908062e-04,\n",
       "        5.73434481e-02, 3.66792554e-02, 1.27783255e-01, 1.27211824e-01,\n",
       "        5.14898990e-02, 1.56469028e-01, 1.37145843e-01, 6.86193220e-02,\n",
       "        3.32285652e-01, 2.19083156e-01, 3.21335977e-01, 1.90030766e-01,\n",
       "        5.29307886e-01, 3.35829828e-01, 3.46273938e-01],\n",
       "       [2.48738920e-01, 4.31518431e-01, 2.40432494e-01, 1.44125976e-01,\n",
       "        3.42330956e-01, 1.30915691e-01, 1.10379569e-01, 1.34393638e-01,\n",
       "        2.23171383e-01, 2.25147430e-01, 4.53376788e-02, 2.25380127e-01,\n",
       "        3.29830844e-02, 2.44080105e-02, 1.96688989e-01, 7.33619731e-02,\n",
       "        5.88888889e-02, 1.68971396e-01, 1.60289671e-01, 5.99132153e-02,\n",
       "        2.12411373e-01, 5.69029851e-01, 1.90890143e-01, 1.06689162e-01,\n",
       "        4.80404809e-01, 1.37281602e-01, 2.26582015e-01],\n",
       "       [2.81551496e-01, 4.01420358e-01, 2.72158202e-01, 1.68454475e-01,\n",
       "        2.61713460e-01, 1.40161633e-01, 7.28678538e-02, 1.00944334e-01,\n",
       "        3.29418046e-01, 1.24473463e-01, 4.59894985e-02, 1.03054279e-01,\n",
       "        3.84017340e-02, 2.56407383e-02, 5.32685182e-02, 6.58515336e-02,\n",
       "        3.51010101e-02, 1.30346657e-01, 1.10455784e-01, 1.35151942e-02,\n",
       "        2.65039105e-01, 4.85874200e-01, 2.44064867e-01, 1.40010917e-01,\n",
       "        2.59661754e-01, 1.94386181e-01, 2.17006661e-01],\n",
       "       [2.89877075e-01, 5.06594521e-01, 2.83397354e-01, 1.72573586e-01,\n",
       "        3.60657218e-01, 2.02862818e-01, 1.23828491e-01, 1.53330020e-01,\n",
       "        3.17138281e-01, 2.38837405e-01, 4.32735832e-02, 1.42503536e-01,\n",
       "        4.68830985e-02, 2.43332997e-02, 8.07356291e-02, 7.12590501e-02,\n",
       "        4.53535354e-02, 1.30327714e-01, 9.98170891e-02, 1.96992938e-02,\n",
       "        3.00124260e-01, 6.29530917e-01, 2.98459661e-01, 1.55096268e-01,\n",
       "        5.15723698e-01, 2.86741854e-01, 3.95087427e-01],\n",
       "       [2.48738920e-01, 4.31518431e-01, 2.40432494e-01, 1.44125976e-01,\n",
       "        3.42330956e-01, 1.30915691e-01, 1.10379569e-01, 1.34393638e-01,\n",
       "        2.23171383e-01, 2.25147430e-01, 4.53376788e-02, 2.25380127e-01,\n",
       "        3.29830844e-02, 2.44080105e-02, 1.96688989e-01, 7.33619731e-02,\n",
       "        5.88888889e-02, 1.68971396e-01, 1.60289671e-01, 5.99132153e-02,\n",
       "        2.12411373e-01, 5.69029851e-01, 1.90890143e-01, 1.06689162e-01,\n",
       "        4.80404809e-01, 1.37281602e-01, 2.26582015e-01],\n",
       "       [2.73715657e-01, 3.57456882e-01, 2.80267463e-01, 1.60816957e-01,\n",
       "        4.64656495e-01, 4.25381823e-01, 2.30716963e-01, 3.06063618e-01,\n",
       "        4.30859584e-01, 3.76158382e-01, 9.37533949e-02, 1.02700672e-01,\n",
       "        7.86882156e-02, 4.58126478e-02, 1.14185675e-01, 1.44335627e-01,\n",
       "        5.51767677e-02, 1.81094904e-01, 1.73728023e-01, 8.36822686e-02,\n",
       "        3.18032308e-01, 4.25906183e-01, 2.97951299e-01, 1.69610957e-01,\n",
       "        5.55797052e-01, 3.78987712e-01, 3.81348876e-01],\n",
       "       [1.99275185e-01, 2.85086236e-01, 1.92630531e-01, 1.11859607e-01,\n",
       "        4.24753995e-01, 1.36155058e-01, 6.29100281e-02, 1.74701789e-01,\n",
       "        2.41324079e-01, 2.71903960e-01, 1.93192106e-01, 3.85608204e-01,\n",
       "        1.59308298e-01, 7.90215877e-02, 1.31998504e-01, 5.85664073e-02,\n",
       "        3.21212121e-02, 2.71263497e-01, 1.46851320e-01, 6.43699128e-02,\n",
       "        1.71113223e-01, 3.03038380e-01, 1.55609781e-01, 8.18777293e-02,\n",
       "        2.88867758e-01, 5.75987525e-02, 6.36969192e-02],\n",
       "       [3.87825065e-01, 3.27020629e-01, 3.70465216e-01, 2.52381361e-01,\n",
       "        2.32644218e-01, 1.25950277e-01, 9.86176195e-02, 1.41500994e-01,\n",
       "        2.02883075e-01, 9.41449031e-02, 4.28390368e-02, 1.41133310e-01,\n",
       "        3.66112237e-02, 2.87225578e-02, 3.78352653e-02, 5.14690420e-02,\n",
       "        3.31060606e-02, 9.80109869e-02, 4.19575199e-02, 1.55535287e-02,\n",
       "        3.37402237e-01, 5.23720682e-01, 3.12185451e-01, 1.89807463e-01,\n",
       "        2.52869660e-01, 1.68469487e-01, 2.35220649e-01],\n",
       "       [2.48738920e-01, 4.31518431e-01, 2.40432494e-01, 1.44125976e-01,\n",
       "        3.42330956e-01, 1.30915691e-01, 1.10379569e-01, 1.34393638e-01,\n",
       "        2.23171383e-01, 2.25147430e-01, 4.53376788e-02, 2.25380127e-01,\n",
       "        3.29830844e-02, 2.44080105e-02, 1.96688989e-01, 7.33619731e-02,\n",
       "        5.88888889e-02, 1.68971396e-01, 1.60289671e-01, 5.99132153e-02,\n",
       "        2.12411373e-01, 5.69029851e-01, 1.90890143e-01, 1.06689162e-01,\n",
       "        4.80404809e-01, 1.37281602e-01, 2.26582015e-01],\n",
       "       [2.81551496e-01, 4.01420358e-01, 2.72158202e-01, 1.68454475e-01,\n",
       "        2.61713460e-01, 1.40161633e-01, 7.28678538e-02, 1.00944334e-01,\n",
       "        3.29418046e-01, 1.24473463e-01, 4.59894985e-02, 1.03054279e-01,\n",
       "        3.84017340e-02, 2.56407383e-02, 5.32685182e-02, 6.58515336e-02,\n",
       "        3.51010101e-02, 1.30346657e-01, 1.10455784e-01, 1.35151942e-02,\n",
       "        2.65039105e-01, 4.85874200e-01, 2.44064867e-01, 1.40010917e-01,\n",
       "        2.59661754e-01, 1.94386181e-01, 2.17006661e-01]])"
      ]
     },
     "execution_count": 86,
     "metadata": {},
     "output_type": "execute_result"
    }
   ],
   "source": [
    "nnb = rfloats[nni_nnb]\n",
    "nnb"
   ]
  },
  {
   "cell_type": "code",
   "execution_count": 87,
   "metadata": {},
   "outputs": [
    {
     "data": {
      "text/plain": [
       "(11, 27)"
      ]
     },
     "execution_count": 87,
     "metadata": {},
     "output_type": "execute_result"
    }
   ],
   "source": [
    "nnb.shape"
   ]
  },
  {
   "cell_type": "markdown",
   "metadata": {},
   "source": [
    "#### Get the locations of all the neighbors"
   ]
  },
  {
   "cell_type": "code",
   "execution_count": 88,
   "metadata": {
    "scrolled": true
   },
   "outputs": [
    {
     "data": {
      "text/plain": [
       "array([[[0.26000294, 0.52147447, 0.24676341, ..., 0.34388372,\n",
       "         0.09006051, 0.04644047],\n",
       "        [0.22327244, 0.43050389, 0.2152511 , ..., 0.36969368,\n",
       "         0.16814004, 0.12801832],\n",
       "        [0.24873892, 0.43151843, 0.24043249, ..., 0.48040481,\n",
       "         0.1372816 , 0.22658201],\n",
       "        [0.24873892, 0.66689212, 0.23780054, ..., 0.35475107,\n",
       "         0.08687583, 0.09006037],\n",
       "        [0.27028748, 0.62056138, 0.2629108 , ..., 0.24471915,\n",
       "         0.12168766, 0.11053289]],\n",
       "\n",
       "       [[0.24286204, 0.28610078, 0.24733248, ..., 0.55783468,\n",
       "         0.39194606, 0.37281432],\n",
       "        [0.36382781, 0.23571187, 0.36178688, ..., 0.52930789,\n",
       "         0.33582983, 0.34627394],\n",
       "        [0.32954601, 0.23097734, 0.3288519 , ..., 0.39550363,\n",
       "         0.34022249, 0.39082015],\n",
       "        [0.28742838, 0.14169767, 0.28930147, ..., 0.4511988 ,\n",
       "         0.26631599, 0.26821399],\n",
       "        [0.26392086, 0.20290835, 0.26824584, ..., 0.4077294 ,\n",
       "         0.27488167, 0.19671107]],\n",
       "\n",
       "       [[0.20760076, 0.39972946, 0.20351401, ..., 0.53542077,\n",
       "         0.23348085, 0.15643214],\n",
       "        [0.24873892, 0.43151843, 0.24043249, ..., 0.48040481,\n",
       "         0.1372816 , 0.22658201],\n",
       "        [0.10700818, 0.32769699, 0.1140276 , ..., 0.57549412,\n",
       "         0.22282865, 0.27518734],\n",
       "        [0.22131348, 0.28102807, 0.21617584, ..., 0.44576513,\n",
       "         0.20833288, 0.25114488],\n",
       "        [0.19143935, 0.29252621, 0.18466354, ..., 0.42810568,\n",
       "         0.1685793 , 0.19358868]],\n",
       "\n",
       "       ...,\n",
       "\n",
       "       [[0.30407953, 0.3222861 , 0.29029734, ..., 0.23928547,\n",
       "         0.12542142, 0.17412573],\n",
       "        [0.29624369, 0.27730808, 0.28595817, ..., 0.17618692,\n",
       "         0.17033637, 0.16278102],\n",
       "        [0.38782506, 0.32702063, 0.37046522, ..., 0.25286966,\n",
       "         0.16846949, 0.23522065],\n",
       "        [0.27322592, 0.24721001, 0.26056338, ..., 0.38327786,\n",
       "         0.11400051, 0.18588676],\n",
       "        [0.33493315, 0.32566791, 0.32956324, ..., 0.25626571,\n",
       "         0.26093498, 0.39331807]],\n",
       "\n",
       "       [[0.15226015, 0.41494758, 0.14845639, ..., 0.40161652,\n",
       "         0.15627986, 0.20056203],\n",
       "        [0.08687987, 0.38214406, 0.08671219, ..., 0.56802282,\n",
       "         0.15276573, 0.09796003],\n",
       "        [0.16989079, 0.39567129, 0.16382131, ..., 0.38735312,\n",
       "         0.09170776, 0.03728143],\n",
       "        [0.24873892, 0.43151843, 0.24043249, ..., 0.48040481,\n",
       "         0.1372816 , 0.22658201],\n",
       "        [0.2056418 , 0.38755495, 0.20251814, ..., 0.48515927,\n",
       "         0.21019976, 0.12114904]],\n",
       "\n",
       "       [[0.29624369, 0.27730808, 0.28595817, ..., 0.17618692,\n",
       "         0.17033637, 0.16278102],\n",
       "        [0.30407953, 0.3222861 , 0.29029734, ..., 0.23928547,\n",
       "         0.12542142, 0.17412573],\n",
       "        [0.30310005, 0.21812648, 0.28773652, ..., 0.09284793,\n",
       "         0.10543482, 0.11355121],\n",
       "        [0.2888976 , 0.27494082, 0.272585  , ..., 0.22977654,\n",
       "         0.05373321, 0.11032473],\n",
       "        [0.2815515 , 0.40142036, 0.2721582 , ..., 0.25966175,\n",
       "         0.19438618, 0.21700666]]])"
      ]
     },
     "execution_count": 88,
     "metadata": {},
     "output_type": "execute_result"
    }
   ],
   "source": [
    "nnsr = rfloats[nnir_filt]\n",
    "nnsr"
   ]
  },
  {
   "cell_type": "code",
   "execution_count": 89,
   "metadata": {},
   "outputs": [
    {
     "data": {
      "text/plain": [
       "(11, 5, 27)"
      ]
     },
     "execution_count": 89,
     "metadata": {},
     "output_type": "execute_result"
    }
   ],
   "source": [
    "nnsr.shape"
   ]
  },
  {
   "cell_type": "markdown",
   "metadata": {},
   "source": [
    "#### Move the nearest neighbors so the origin of each subspace is at the location of the generated synthetic instance"
   ]
  },
  {
   "cell_type": "code",
   "execution_count": 90,
   "metadata": {
    "scrolled": true
   },
   "outputs": [
    {
     "data": {
      "text/plain": [
       "array([[[-1.02845389e-02, -4.05816706e-03, -1.05989472e-02, ...,\n",
       "         -4.82238674e-02,  3.29449490e-03, -9.82306411e-02],\n",
       "        [-4.70150350e-02, -9.50287454e-02, -4.21112534e-02, ...,\n",
       "         -2.24139102e-02,  8.13740240e-02, -1.66527893e-02],\n",
       "        [-2.15485577e-02, -9.40142036e-02, -1.69298620e-02, ...,\n",
       "          8.82972220e-02,  5.05155885e-02,  8.19109076e-02],\n",
       "        [-2.15485577e-02,  1.41359486e-01, -1.95618153e-02, ...,\n",
       "         -3.73565170e-02,  1.09816497e-04, -5.46107410e-02],\n",
       "        [ 0.00000000e+00,  9.50287454e-02,  5.54844217e-03, ...,\n",
       "         -1.47388440e-01,  3.49216459e-02, -3.41382182e-02]],\n",
       "\n",
       "       [[-5.63200940e-02,  8.04869800e-02, -5.50576184e-02, ...,\n",
       "          8.28635468e-02,  3.29449490e-02,  8.35761865e-02],\n",
       "        [ 6.46456731e-02,  3.00980724e-02,  5.93967847e-02, ...,\n",
       "          5.43367520e-02, -2.31712808e-02,  5.70358035e-02],\n",
       "        [ 3.03638768e-02,  2.53635441e-02,  2.64618011e-02, ...,\n",
       "         -7.94674998e-02, -1.87786209e-02,  1.01582015e-01],\n",
       "        [-1.17537588e-02, -6.39161312e-02, -1.30886328e-02, ...,\n",
       "         -2.37723290e-02, -9.26851232e-02, -2.10241465e-02],\n",
       "        [-3.52612763e-02, -2.70544471e-03, -3.41442595e-02, ...,\n",
       "         -6.72417306e-02, -8.41194364e-02, -9.25270608e-02]],\n",
       "\n",
       "       [[ 2.88946569e-02,  9.13087589e-03,  2.88092190e-02, ...,\n",
       "         -1.35162671e-01,  2.22927488e-02, -1.68297252e-01],\n",
       "        [ 7.00328126e-02,  4.09198512e-02,  6.57276995e-02, ...,\n",
       "         -1.90178632e-01, -7.39065022e-02, -9.81473772e-02],\n",
       "        [-7.16979284e-02, -6.29015894e-02, -6.06771945e-02, ...,\n",
       "         -9.50893160e-02,  1.16405486e-02, -4.95420483e-02],\n",
       "        [ 4.26073755e-02, -1.09570511e-01,  4.14710485e-02, ...,\n",
       "         -2.24818311e-01, -2.85522891e-03, -7.35845129e-02],\n",
       "        [ 1.27332387e-02, -9.80723706e-02,  9.95874235e-03, ...,\n",
       "         -2.42477756e-01, -4.26088007e-02, -1.31140716e-01]],\n",
       "\n",
       "       ...,\n",
       "\n",
       "       [[-3.62407562e-02,  8.08251606e-02, -3.89813629e-02, ...,\n",
       "         -5.29783332e-02, -7.19298053e-02, -7.95170691e-02],\n",
       "        [-4.40765953e-02,  3.58471424e-02, -4.33205292e-02, ...,\n",
       "         -1.16076887e-01, -2.70148582e-02, -9.08617818e-02],\n",
       "        [ 4.75047750e-02,  8.55596889e-02,  4.11865130e-02, ...,\n",
       "         -3.93941452e-02, -2.88817386e-02, -1.84221482e-02],\n",
       "        [-6.70943729e-02,  5.74907000e-03, -6.87153222e-02, ...,\n",
       "          9.10140596e-02, -8.33507209e-02, -6.77560366e-02],\n",
       "        [-5.38713943e-03,  8.42069665e-02,  2.84535496e-04, ...,\n",
       "         -3.59980982e-02,  6.35837516e-02,  1.39675271e-01]],\n",
       "\n",
       "       [[ 7.34609922e-03, -1.09570511e-01,  5.54844217e-03, ...,\n",
       "         -1.33125042e-01,  3.27253160e-02,  8.34721066e-02],\n",
       "        [-5.80341838e-02, -1.42374028e-01, -5.61957604e-02, ...,\n",
       "          3.32812606e-02,  2.92111881e-02, -1.91298918e-02],\n",
       "        [ 2.49767374e-02, -1.28846804e-01,  2.09133589e-02, ...,\n",
       "         -1.47388440e-01, -3.18467840e-02, -7.98084929e-02],\n",
       "        [ 1.03824869e-01, -9.29996618e-02,  9.75245412e-02, ...,\n",
       "         -5.43367520e-02,  1.37270621e-02,  1.09492090e-01],\n",
       "        [ 6.07277536e-02, -1.36963138e-01,  5.96101864e-02, ...,\n",
       "         -4.95822862e-02,  8.66452158e-02,  4.05911740e-03]],\n",
       "\n",
       "       [[-2.54664773e-02, -8.79269530e-03, -2.20515009e-02, ...,\n",
       "          1.80669700e-02, -3.76670583e-02, -1.04079933e-04],\n",
       "        [-1.76306381e-02,  3.61853230e-02, -1.77123346e-02, ...,\n",
       "          8.11655233e-02, -8.25820055e-02,  1.12406328e-02],\n",
       "        [-1.86101180e-02, -6.79742983e-02, -2.02731541e-02, ...,\n",
       "         -6.52720234e-02, -1.02568608e-01, -4.93338884e-02],\n",
       "        [-3.28125765e-02, -1.11599594e-02, -3.54246692e-02, ...,\n",
       "          7.16565917e-02, -1.54270214e-01, -5.25603664e-02],\n",
       "        [-4.01586757e-02,  1.15319581e-01, -3.58514725e-02, ...,\n",
       "          1.01541805e-01, -1.36172456e-02,  5.41215654e-02]]])"
      ]
     },
     "execution_count": 90,
     "metadata": {},
     "output_type": "execute_result"
    }
   ],
   "source": [
    "nnsrss = nnsr - test_setr_filt[:,None,:]\n",
    "nnsrss"
   ]
  },
  {
   "cell_type": "code",
   "execution_count": 91,
   "metadata": {},
   "outputs": [
    {
     "data": {
      "text/plain": [
       "(11, 5, 27)"
      ]
     },
     "execution_count": 91,
     "metadata": {},
     "output_type": "execute_result"
    }
   ],
   "source": [
    "nnsrss.shape"
   ]
  },
  {
   "cell_type": "markdown",
   "metadata": {},
   "source": [
    "#### Move nnb so the origin of each subspace is at the location of the generated synthetic instance\n",
    "\n",
    "Note: these are in the nnsr, but we do them again so we don't have to try and ID them from nnsr"
   ]
  },
  {
   "cell_type": "code",
   "execution_count": 92,
   "metadata": {
    "scrolled": true
   },
   "outputs": [
    {
     "data": {
      "text/plain": [
       "array([[-2.15485577e-02, -9.40142036e-02, -1.69298620e-02,\n",
       "        -1.35587402e-02,  2.38331678e-02,  1.90397918e-02,\n",
       "         4.54311153e-02,  3.16103380e-02, -1.81526962e-02,\n",
       "         1.01305813e-01,  1.02480536e-02,  6.63012730e-03,\n",
       "         6.73797295e-03,  4.27719192e-03,  5.88435259e-02,\n",
       "         2.95761108e-02,  2.07575758e-02,  4.67702216e-02,\n",
       "         5.59931315e-02,  2.76729820e-02,  5.11658504e-03,\n",
       "        -2.29211087e-02,  3.81271923e-03,  5.13596665e-03,\n",
       "         8.82972220e-02,  5.05155885e-02,  8.19109076e-02],\n",
       "       [ 6.46456731e-02,  3.00980724e-02,  5.93967847e-02,\n",
       "         5.68523127e-02, -1.07790918e-01, -1.09992466e-01,\n",
       "        -5.59981256e-03, -4.92047714e-02, -3.63053924e-02,\n",
       "        -1.22156698e-01, -2.75212747e-03, -5.71074965e-02,\n",
       "         8.01017764e-04,  5.77140744e-03,  2.56654316e-02,\n",
       "        -1.09652417e-02,  7.07070707e-03, -1.79200606e-02,\n",
       "         5.65530628e-02, -8.60246258e-03,  4.38564432e-02,\n",
       "        -1.65245203e-02,  3.76188297e-02,  4.39410480e-02,\n",
       "         5.43367520e-02, -2.31712808e-02,  5.70358035e-02],\n",
       "       [ 7.00328126e-02,  4.09198512e-02,  6.57276995e-02,\n",
       "         4.71123316e-02,  2.67220367e-02, -2.78748031e-02,\n",
       "        -9.88753515e-03,  4.00099404e-02,  5.23224773e-02,\n",
       "        -9.77253580e-02,  8.32880681e-04,  8.70535714e-02,\n",
       "        -6.59661688e-03,  6.46248212e-03, -5.48662338e-02,\n",
       "        -2.66620603e-02, -2.80303030e-03,  4.70733093e-02,\n",
       "         1.47448580e-02,  5.25130246e-03,  5.40896133e-02,\n",
       "         1.12473348e-01,  4.09231864e-02,  3.36194919e-02,\n",
       "        -1.90178632e-01, -7.39065022e-02, -9.81473772e-02],\n",
       "       [-4.70150350e-02, -1.82955698e-01, -4.31782615e-02,\n",
       "        -3.56560542e-02,  1.05353435e-01,  2.76693377e-02,\n",
       "        -8.57544517e-03,  1.46123260e-02,  4.11105179e-02,\n",
       "         3.24347094e-02,  2.53485425e-03, -1.87190594e-02,\n",
       "        -7.30339726e-03,  1.86776940e-05, -7.05714383e-02,\n",
       "        -4.33352360e-02, -1.46717172e-02,  9.67986361e-03,\n",
       "        -6.34588824e-03, -2.09361138e-02,  1.93699291e-02,\n",
       "        -4.61087420e-02,  1.06756138e-02,  1.32244938e-02,\n",
       "         5.22991238e-02,  6.40230175e-02,  6.38009992e-02],\n",
       "       [ 4.84842549e-02,  2.43490024e-02,  4.55968132e-02,\n",
       "         3.26954432e-02,  1.22325539e-01,  1.14033285e-02,\n",
       "        -3.58481724e-03,  5.21371769e-02,  1.31873999e-01,\n",
       "         2.33782645e-02, -5.03349629e-03, -1.34812588e-02,\n",
       "         1.44654384e-02,  2.46545560e-03, -3.67474590e-02,\n",
       "        -8.41169225e-02, -3.08080808e-02, -3.43057397e-02,\n",
       "        -7.83903841e-03, -6.70922986e-02,  9.83115269e-02,\n",
       "         1.15405117e-01,  1.14534086e-01,  5.57512902e-02,\n",
       "         1.65727094e-01, -6.25954031e-02, -1.19691923e-02],\n",
       "       [-6.17072335e-02,  4.12580318e-02, -5.74050363e-02,\n",
       "        -4.16630910e-02, -1.35415726e-03, -4.05451681e-02,\n",
       "         7.61246485e-02,  4.01590457e-02,  3.63053924e-02,\n",
       "         4.84414490e-02, -8.03910918e-03, -2.71835219e-02,\n",
       "        -9.89492532e-03, -4.10909267e-03,  3.73933440e-03,\n",
       "        -1.35938955e-02,  4.04494949e-02, -2.12161394e-02,\n",
       "         7.16712083e-02, -1.02262206e-02, -3.06995103e-02,\n",
       "         8.23560768e-02, -3.16709877e-02, -1.53582771e-02,\n",
       "         8.96556408e-02,  1.09816497e-03,  1.61729808e-01],\n",
       "       [-3.33023165e-02,  1.09232330e-01, -2.92360222e-02,\n",
       "        -2.45430361e-02, -4.96524330e-02,  5.37634409e-02,\n",
       "         1.35895033e-03,  4.53280318e-02,  3.52375868e-02,\n",
       "         1.37320977e-01, -1.97718631e-02,  3.33716407e-03,\n",
       "        -6.40814211e-03, -8.23686304e-03, -4.34782609e-02,\n",
       "        -3.99555382e-02, -2.35858586e-02, -7.31199091e-02,\n",
       "        -6.40188137e-02,  2.14888824e-02,  3.61815657e-02,\n",
       "         1.58049041e-01,  2.54181282e-02,  2.01468837e-02,\n",
       "         1.22257692e-02,  5.07352214e-02,  4.73563697e-02],\n",
       "       [ 4.89739948e-04,  1.96144741e-02, -6.33091478e-03,\n",
       "         3.51840728e-03, -6.87911890e-02, -1.30093829e-01,\n",
       "        -6.08481724e-02, -4.59741551e-02,  1.12119594e-02,\n",
       "        -8.21398484e-02,  7.48144125e-02,  4.37588402e-02,\n",
       "         4.66003864e-02,  3.44603454e-02, -3.36880035e-02,\n",
       "        -6.08345600e-02, -1.17424242e-02,  2.19738587e-02,\n",
       "        -4.85273806e-02,  1.52011387e-02, -5.11658504e-03,\n",
       "        -1.22334755e-01, -1.73859997e-02,  3.22548630e-04,\n",
       "        -1.43992393e-01, -1.16032110e-01, -7.84762698e-02],\n",
       "       [ 4.75047750e-02,  8.55596889e-02,  4.11865130e-02,\n",
       "         3.97322578e-02, -7.23119978e-02, -3.70522567e-02,\n",
       "        -2.30318650e-02,  2.78330020e-03,  7.36785905e-02,\n",
       "         1.85341196e-02,  3.40394713e-03, -1.59123055e-03,\n",
       "         2.96847760e-03,  4.10909267e-03, -2.41017099e-02,\n",
       "        -3.62378706e-02, -1.23484848e-02, -1.83746922e-02,\n",
       "        -4.49811490e-02,  4.35305336e-03,  5.29932023e-02,\n",
       "         1.66044776e-01,  5.03278939e-02,  3.91028186e-02,\n",
       "        -3.93941452e-02, -2.88817386e-02, -1.84221482e-02],\n",
       "       [ 1.03824869e-01, -9.29996618e-02,  9.75245412e-02,\n",
       "         6.83514975e-02, -5.43468448e-02, -5.04417506e-02,\n",
       "         5.46391753e-02,  5.41252485e-02, -1.66577683e-01,\n",
       "        -5.56023589e-02, -4.70758646e-03, -2.49734795e-02,\n",
       "        -1.88474768e-03,  6.03289515e-03,  1.05381242e-02,\n",
       "         1.25424340e-02,  3.15909091e-02,  5.06724758e-02,\n",
       "        -9.53749673e-02,  3.45480425e-04,  8.18653607e-02,\n",
       "        -4.85074627e-02,  7.14757765e-02,  4.91018261e-02,\n",
       "        -5.43367520e-02,  1.37270621e-02,  1.09492090e-01],\n",
       "       [-4.01586757e-02,  1.15319581e-01, -3.58514725e-02,\n",
       "        -3.00780915e-02,  1.43179561e-01,  2.77720704e-02,\n",
       "         1.48781631e-02,  3.26540755e-02,  7.95515216e-02,\n",
       "         2.10614996e-04,  3.07803730e-03,  3.48081683e-02,\n",
       "        -4.19356359e-03, -5.60330819e-05,  3.77332835e-03,\n",
       "        -2.06537087e-02,  7.85353535e-03,  3.10286039e-02,\n",
       "         5.17003248e-02, -2.31817365e-02, -1.05986405e-02,\n",
       "         1.32995736e-01, -1.67759646e-02, -7.89003573e-03,\n",
       "         1.01541805e-01, -1.36172456e-02,  5.41215654e-02]])"
      ]
     },
     "execution_count": 92,
     "metadata": {},
     "output_type": "execute_result"
    }
   ],
   "source": [
    "nnbss = nnb - test_setr_filt\n",
    "nnbss"
   ]
  },
  {
   "cell_type": "code",
   "execution_count": 93,
   "metadata": {},
   "outputs": [
    {
     "data": {
      "text/plain": [
       "(11, 27)"
      ]
     },
     "execution_count": 93,
     "metadata": {},
     "output_type": "execute_result"
    }
   ],
   "source": [
    "nnbss.shape"
   ]
  },
  {
   "cell_type": "markdown",
   "metadata": {},
   "source": [
    "#### The unit length direction (dir) vectors from the generated synthetic instances origin to the nnb's."
   ]
  },
  {
   "cell_type": "code",
   "execution_count": 94,
   "metadata": {
    "scrolled": true
   },
   "outputs": [
    {
     "data": {
      "text/plain": [
       "array([[-9.35312524e-02, -4.08067506e-01, -7.34838599e-02,\n",
       "        -5.88515469e-02,  1.03447575e-01,  8.26419845e-02,\n",
       "         1.97193203e-01,  1.37204287e-01, -7.87915569e-02,\n",
       "         4.39716648e-01,  4.44815518e-02,  2.87779868e-02,\n",
       "         2.92460896e-02,  1.85650995e-02,  2.55409607e-01,\n",
       "         1.28374749e-01,  9.00980048e-02,  2.03005578e-01,\n",
       "         2.43037506e-01,  1.20114242e-01,  2.22084751e-02,\n",
       "        -9.94887934e-02,  1.65490614e-02,  2.22926007e-02,\n",
       "         3.83253017e-01,  2.19262297e-01,  3.55533297e-01],\n",
       "       [ 2.37217560e-01,  1.10444999e-01,  2.17956743e-01,\n",
       "         2.08619792e-01, -3.95539212e-01, -4.03617802e-01,\n",
       "        -2.05485349e-02, -1.80557108e-01, -1.33222785e-01,\n",
       "        -4.48254498e-01, -1.00989429e-02, -2.09556190e-01,\n",
       "         2.93933794e-03,  2.11782030e-02,  9.41794053e-02,\n",
       "        -4.02369989e-02,  2.59459883e-02, -6.57577352e-02,\n",
       "         2.07521694e-01, -3.15667714e-02,  1.60931397e-01,\n",
       "        -6.06367942e-02,  1.38042449e-01,  1.61241854e-01,\n",
       "         1.99388932e-01, -8.50271090e-02,  2.09293113e-01],\n",
       "       [ 2.09174953e-01,  1.22219966e-01,  1.96316383e-01,\n",
       "         1.40715750e-01,  7.98137409e-02, -8.32568393e-02,\n",
       "        -2.95322238e-02,  1.19502232e-01,  1.56277484e-01,\n",
       "        -2.91887422e-01,  2.48765929e-03,  2.60012786e-01,\n",
       "        -1.97028646e-02,  1.93022291e-02, -1.63875210e-01,\n",
       "        -7.96346026e-02, -8.37212886e-03,  1.40599198e-01,\n",
       "         4.40401414e-02,  1.56846613e-02,  1.61555589e-01,\n",
       "         3.35936917e-01,  1.22229927e-01,  1.00415153e-01,\n",
       "        -5.68028113e-01, -2.20744941e-01, -2.93147915e-01],\n",
       "       [-1.71146303e-01, -6.66003787e-01, -1.57179503e-01,\n",
       "        -1.29796816e-01,  3.83512442e-01,  1.00723202e-01,\n",
       "        -3.12167317e-02,  5.31924644e-02,  1.49652407e-01,\n",
       "         1.18070328e-01,  9.22749355e-03, -6.81419850e-02,\n",
       "        -2.65861641e-02,  6.79914046e-05, -2.56897410e-01,\n",
       "        -1.57750928e-01, -5.34086627e-02,  3.52370868e-02,\n",
       "        -2.31005956e-02, -7.62126087e-02,  7.05113109e-02,\n",
       "        -1.67847173e-01,  3.88618628e-02,  4.81404135e-02,\n",
       "         1.90381687e-01,  2.33059547e-01,  2.32251345e-01],\n",
       "       [ 1.35450101e-01,  6.80236261e-02,  1.27383477e-01,\n",
       "         9.13410157e-02,  3.41739946e-01,  3.18573938e-02,\n",
       "        -1.00148772e-02,  1.45655242e-01,  3.68415406e-01,\n",
       "         6.53116831e-02, -1.40620410e-02, -3.76624922e-02,\n",
       "         4.04119874e-02,  6.88772492e-03, -1.02661102e-01,\n",
       "        -2.34996818e-01, -8.60683054e-02, -9.58396890e-02,\n",
       "        -2.18998631e-02, -1.87435254e-01,  2.74652179e-01,\n",
       "         3.22406415e-01,  3.19973020e-01,  1.55751963e-01,\n",
       "         4.62990544e-01, -1.74872310e-01, -3.34382433e-02],\n",
       "       [-2.25527803e-01,  1.50789992e-01, -2.09804118e-01,\n",
       "        -1.52270404e-01, -4.94917849e-03, -1.48184616e-01,\n",
       "         2.78220620e-01,  1.46773414e-01,  1.32689069e-01,\n",
       "         1.77043970e-01, -2.93813631e-02, -9.93504267e-02,\n",
       "        -3.61640061e-02, -1.50179256e-02,  1.36665318e-02,\n",
       "        -4.96830147e-02,  1.47834949e-01, -7.75408172e-02,\n",
       "         2.61944172e-01, -3.73748251e-02, -1.12200673e-01,\n",
       "         3.00995264e-01, -1.15751232e-01, -5.61314824e-02,\n",
       "         3.27673736e-01,  4.01357699e-03,  5.91090644e-01],\n",
       "       [-1.11770077e-01,  3.66608311e-01, -9.81226776e-02,\n",
       "        -8.23719590e-02, -1.66644752e-01,  1.80442221e-01,\n",
       "         4.56094348e-03,  1.52131088e-01,  1.18265280e-01,\n",
       "         4.60880139e-01, -6.63588274e-02,  1.12002745e-02,\n",
       "        -2.15071687e-02, -2.76447682e-02, -1.45922839e-01,\n",
       "        -1.34099788e-01, -7.91594555e-02, -2.45406889e-01,\n",
       "        -2.14861563e-01,  7.21215311e-02,  1.21433486e-01,\n",
       "         5.30448190e-01,  8.53089652e-02,  6.76174809e-02,\n",
       "         4.10324360e-02,  1.70278834e-01,  1.58938646e-01],\n",
       "       [ 1.48102695e-03,  5.93163063e-02, -1.91453759e-02,\n",
       "         1.06400469e-02, -2.08032049e-01, -3.93417910e-01,\n",
       "        -1.84011501e-01, -1.39030853e-01,  3.39061866e-02,\n",
       "        -2.48399849e-01,  2.26246933e-01,  1.32331499e-01,\n",
       "         1.40924644e-01,  1.04211838e-01, -1.01876192e-01,\n",
       "        -1.83970336e-01, -3.55103700e-02,  6.64513422e-02,\n",
       "        -1.46752085e-01,  4.59698992e-02, -1.54731105e-02,\n",
       "        -3.69953624e-01, -5.25771569e-02,  9.75422192e-04,\n",
       "        -4.35448681e-01, -3.50893741e-01, -2.37320788e-01],\n",
       "       [ 1.82985542e-01,  3.29570787e-01,  1.58647976e-01,\n",
       "         1.53046273e-01, -2.78541476e-01, -1.42723069e-01,\n",
       "        -8.87173620e-02,  1.07211053e-02,  2.83805509e-01,\n",
       "         7.13923165e-02,  1.31118001e-02, -6.12932459e-03,\n",
       "         1.14343976e-02,  1.58279784e-02, -9.28383401e-02,\n",
       "        -1.39586103e-01, -4.75656226e-02, -7.07782116e-02,\n",
       "        -1.73264686e-01,  1.67677003e-02,  2.04126635e-01,\n",
       "         6.39594513e-01,  1.93860027e-01,  1.50621711e-01,\n",
       "        -1.51743883e-01, -1.11250724e-01, -7.09610094e-02],\n",
       "       [ 2.98248043e-01, -2.67151478e-01,  2.80149678e-01,\n",
       "         1.96346989e-01, -1.56117126e-01, -1.44899325e-01,\n",
       "         1.56956876e-01,  1.55480567e-01, -4.78512214e-01,\n",
       "        -1.59723724e-01, -1.35230457e-02, -7.17389915e-02,\n",
       "        -5.41413934e-03,  1.73301367e-02,  3.02718892e-02,\n",
       "         3.60294834e-02,  9.07482659e-02,  1.45562108e-01,\n",
       "        -2.73974797e-01,  9.92429480e-04,  2.35167007e-01,\n",
       "        -1.39342876e-01,  2.05321815e-01,  1.41050248e-01,\n",
       "        -1.56088133e-01,  3.94324543e-02,  3.14527742e-01],\n",
       "       [-1.38997631e-01,  3.99145347e-01, -1.24089494e-01,\n",
       "        -1.04106607e-01,  4.95574605e-01,  9.61249826e-02,\n",
       "         5.14964547e-02,  1.13022630e-01,  2.75344564e-01,\n",
       "         7.28982841e-04,  1.06537351e-02,  1.20478399e-01,\n",
       "        -1.45148064e-02, -1.93942293e-04,  1.30602838e-02,\n",
       "        -7.14868339e-02,  2.71827393e-02,  1.07396531e-01,\n",
       "         1.78945709e-01, -8.02368706e-02, -3.66841259e-02,\n",
       "         4.60326241e-01, -5.80651454e-02, -2.73090748e-02,\n",
       "         3.51457566e-01, -4.71321538e-02,  1.87326132e-01]])"
      ]
     },
     "execution_count": 94,
     "metadata": {},
     "output_type": "execute_result"
    }
   ],
   "source": [
    "dir = normalized(nnbss)\n",
    "dir"
   ]
  },
  {
   "cell_type": "code",
   "execution_count": 95,
   "metadata": {},
   "outputs": [
    {
     "data": {
      "text/plain": [
       "(11, 27)"
      ]
     },
     "execution_count": 95,
     "metadata": {},
     "output_type": "execute_result"
    }
   ],
   "source": [
    "dir.shape"
   ]
  },
  {
   "cell_type": "markdown",
   "metadata": {},
   "source": [
    "### ui"
   ]
  },
  {
   "cell_type": "code",
   "execution_count": 96,
   "metadata": {
    "scrolled": true
   },
   "outputs": [
    {
     "data": {
      "text/plain": [
       "array([[-0.09353125, -0.40806751, -0.07348386, ...,  0.38325302,\n",
       "         0.2192623 ,  0.3555333 ],\n",
       "       [-0.09353125, -0.40806751, -0.07348386, ...,  0.38325302,\n",
       "         0.2192623 ,  0.3555333 ],\n",
       "       [-0.09353125, -0.40806751, -0.07348386, ...,  0.38325302,\n",
       "         0.2192623 ,  0.3555333 ],\n",
       "       ...,\n",
       "       [-0.13899763,  0.39914535, -0.12408949, ...,  0.35145757,\n",
       "        -0.04713215,  0.18732613],\n",
       "       [-0.13899763,  0.39914535, -0.12408949, ...,  0.35145757,\n",
       "        -0.04713215,  0.18732613],\n",
       "       [-0.13899763,  0.39914535, -0.12408949, ...,  0.35145757,\n",
       "        -0.04713215,  0.18732613]])"
      ]
     },
     "execution_count": 96,
     "metadata": {},
     "output_type": "execute_result"
    }
   ],
   "source": [
    "dir_rpt = np.repeat(dir, nnsrss.shape[1], axis=0)\n",
    "dir_rpt"
   ]
  },
  {
   "cell_type": "code",
   "execution_count": 97,
   "metadata": {},
   "outputs": [
    {
     "data": {
      "text/plain": [
       "(55, 27)"
      ]
     },
     "execution_count": 97,
     "metadata": {},
     "output_type": "execute_result"
    }
   ],
   "source": [
    "dir_rpt.shape"
   ]
  },
  {
   "cell_type": "markdown",
   "metadata": {},
   "source": [
    "### uf"
   ]
  },
  {
   "cell_type": "code",
   "execution_count": 98,
   "metadata": {
    "scrolled": true
   },
   "outputs": [
    {
     "data": {
      "text/plain": [
       "array([[1., 0., 0., ..., 0., 0., 0.],\n",
       "       [1., 0., 0., ..., 0., 0., 0.],\n",
       "       [1., 0., 0., ..., 0., 0., 0.],\n",
       "       ...,\n",
       "       [1., 0., 0., ..., 0., 0., 0.],\n",
       "       [1., 0., 0., ..., 0., 0., 0.],\n",
       "       [1., 0., 0., ..., 0., 0., 0.]])"
      ]
     },
     "execution_count": 98,
     "metadata": {},
     "output_type": "execute_result"
    }
   ],
   "source": [
    "axis0q = np.zeros(nnsrss.shape[-1])\n",
    "axis0q[0] = 1.0\n",
    "axis0 = np.repeat(np.atleast_2d(axis0q), nnsrss.shape[0] * nnsrss.shape[1], axis=0)\n",
    "axis0"
   ]
  },
  {
   "cell_type": "code",
   "execution_count": 99,
   "metadata": {},
   "outputs": [
    {
     "data": {
      "text/plain": [
       "(55, 27)"
      ]
     },
     "execution_count": 99,
     "metadata": {},
     "output_type": "execute_result"
    }
   ],
   "source": [
    "axis0.shape"
   ]
  },
  {
   "cell_type": "code",
   "execution_count": 100,
   "metadata": {},
   "outputs": [
    {
     "data": {
      "text/plain": [
       "(11, 5, 27)"
      ]
     },
     "execution_count": 100,
     "metadata": {},
     "output_type": "execute_result"
    }
   ],
   "source": [
    "nnsrss.shape"
   ]
  },
  {
   "cell_type": "markdown",
   "metadata": {},
   "source": [
    "### a"
   ]
  },
  {
   "cell_type": "code",
   "execution_count": 101,
   "metadata": {},
   "outputs": [
    {
     "name": "stdout",
     "output_type": "stream",
     "text": [
      "(11, 5, 27)\n",
      "(55, 27)\n"
     ]
    },
    {
     "data": {
      "text/plain": [
       "(55, 27)"
      ]
     },
     "execution_count": 101,
     "metadata": {},
     "output_type": "execute_result"
    }
   ],
   "source": [
    "print(nnsrss.shape)\n",
    "nnsrss_a = nnsrss.ravel().reshape(nnsrss.shape[0] * nnsrss.shape[1], nnsrss.shape[2])\n",
    "print(nnsrss_a.shape)\n",
    "nnsrss_a.shape"
   ]
  },
  {
   "cell_type": "code",
   "execution_count": 102,
   "metadata": {},
   "outputs": [],
   "source": [
    "uii = dir_rpt\n",
    "uff = axis0\n",
    "aa = nnsrss_a"
   ]
  },
  {
   "cell_type": "raw",
   "metadata": {},
   "source": [
    "s = ui + uf\n",
    "c = 2.0 / np.dot(s, s)\n",
    "w = (2.0 * np.dot(a, ui))[:,None] * ui - a\n",
    "r = (c * np.dot(w, s))[:,None] * s - w\n",
    "\n",
    "s = ui + uf\n",
    "c = (2.0 / np.einsum('ij,ij->i', s,  s))\n",
    "w = (2.0 * np.einsum('ij,ij->i', a, ui))[:,None] * ui - a\n",
    "r = (c   * np.einsum('ij,ij->i', w,  s))[:,None] *  s - w"
   ]
  },
  {
   "cell_type": "code",
   "execution_count": 103,
   "metadata": {
    "scrolled": true
   },
   "outputs": [
    {
     "data": {
      "text/plain": [
       "array([[ 0.90646875, -0.40806751, -0.07348386, ...,  0.38325302,\n",
       "         0.2192623 ,  0.3555333 ],\n",
       "       [ 0.90646875, -0.40806751, -0.07348386, ...,  0.38325302,\n",
       "         0.2192623 ,  0.3555333 ],\n",
       "       [ 0.90646875, -0.40806751, -0.07348386, ...,  0.38325302,\n",
       "         0.2192623 ,  0.3555333 ],\n",
       "       ...,\n",
       "       [ 0.86100237,  0.39914535, -0.12408949, ...,  0.35145757,\n",
       "        -0.04713215,  0.18732613],\n",
       "       [ 0.86100237,  0.39914535, -0.12408949, ...,  0.35145757,\n",
       "        -0.04713215,  0.18732613],\n",
       "       [ 0.86100237,  0.39914535, -0.12408949, ...,  0.35145757,\n",
       "        -0.04713215,  0.18732613]])"
      ]
     },
     "execution_count": 103,
     "metadata": {},
     "output_type": "execute_result"
    }
   ],
   "source": [
    "ss = uii + uff\n",
    "ss"
   ]
  },
  {
   "cell_type": "code",
   "execution_count": 104,
   "metadata": {},
   "outputs": [
    {
     "data": {
      "text/plain": [
       "(55, 27)"
      ]
     },
     "execution_count": 104,
     "metadata": {},
     "output_type": "execute_result"
    }
   ],
   "source": [
    "ss.shape"
   ]
  },
  {
   "cell_type": "code",
   "execution_count": 105,
   "metadata": {},
   "outputs": [
    {
     "data": {
      "text/plain": [
       "(55,)"
      ]
     },
     "execution_count": 105,
     "metadata": {},
     "output_type": "execute_result"
    }
   ],
   "source": [
    "cc = (2.0 / np.einsum('ij,ij->i', ss,  ss))\n",
    "cc.shape"
   ]
  },
  {
   "cell_type": "code",
   "execution_count": 106,
   "metadata": {},
   "outputs": [
    {
     "data": {
      "text/plain": [
       "(55, 27)"
      ]
     },
     "execution_count": 106,
     "metadata": {},
     "output_type": "execute_result"
    }
   ],
   "source": [
    "ww = (2.0 * np.einsum('ij,ij->i', aa, uii))[:,None] * uii - aa\n",
    "ww.shape"
   ]
  },
  {
   "cell_type": "code",
   "execution_count": 107,
   "metadata": {},
   "outputs": [
    {
     "data": {
      "text/plain": [
       "(55, 27)"
      ]
     },
     "execution_count": 107,
     "metadata": {},
     "output_type": "execute_result"
    }
   ],
   "source": [
    "rr = (cc   * np.einsum('ij,ij->i', ww,  ss))[:,None] *  ss - ww\n",
    "rr.shape"
   ]
  },
  {
   "cell_type": "code",
   "execution_count": 108,
   "metadata": {
    "scrolled": true
   },
   "outputs": [
    {
     "data": {
      "text/plain": [
       "array([[-7.66393880e-02, -4.31889481e-02, -1.76455285e-02, ...,\n",
       "        -1.14726200e-02,  2.43201948e-02, -6.41375183e-02],\n",
       "       [ 8.36085172e-02, -7.85553577e-02, -3.91447635e-02, ...,\n",
       "        -3.78855550e-02,  7.25225650e-02, -3.10054092e-02],\n",
       "       [ 2.30388850e-01,  1.38777878e-17,  0.00000000e+00, ...,\n",
       "        -1.38777878e-17, -6.93889390e-18,  0.00000000e+00],\n",
       "       ...,\n",
       "       [-7.69090369e-02, -2.36933211e-02, -3.40395780e-02, ...,\n",
       "        -2.62815038e-02, -1.07797424e-01, -2.85520248e-02],\n",
       "       [ 1.18829898e-01, -5.10360562e-02, -2.30276697e-02, ...,\n",
       "         3.65446807e-02, -1.49561538e-01, -7.12749399e-02],\n",
       "       [ 2.88916260e-01, -4.16333634e-17,  6.93889390e-18, ...,\n",
       "        -2.77555756e-17,  1.73472348e-18, -6.93889390e-18]])"
      ]
     },
     "execution_count": 108,
     "metadata": {},
     "output_type": "execute_result"
    }
   ],
   "source": [
    "rr"
   ]
  },
  {
   "cell_type": "code",
   "execution_count": 109,
   "metadata": {},
   "outputs": [
    {
     "data": {
      "text/plain": [
       "(55, 27)"
      ]
     },
     "execution_count": 109,
     "metadata": {},
     "output_type": "execute_result"
    }
   ],
   "source": [
    "rr.shape"
   ]
  },
  {
   "cell_type": "markdown",
   "metadata": {},
   "source": [
    "#### Rotate each subspaces nearest neighbors from the direction to nnb to the 1st axis\n",
    "\n",
    "In this configuration, the first coordinate of the rotated vectors in each synthetic samples subspace is the projected distance on the line from our synthetic sample to nnb."
   ]
  },
  {
   "cell_type": "code",
   "execution_count": 110,
   "metadata": {},
   "outputs": [
    {
     "data": {
      "text/plain": [
       "array([[-7.66393880e-02, -4.31889481e-02, -1.76455285e-02, ...,\n",
       "        -1.14726200e-02,  2.43201948e-02, -6.41375183e-02],\n",
       "       [ 8.36085172e-02, -7.85553577e-02, -3.91447635e-02, ...,\n",
       "        -3.78855550e-02,  7.25225650e-02, -3.10054092e-02],\n",
       "       [ 2.30388850e-01,  1.38777878e-17,  0.00000000e+00, ...,\n",
       "        -1.38777878e-17, -6.93889390e-18,  0.00000000e+00],\n",
       "       ...,\n",
       "       [-7.69090369e-02, -2.36933211e-02, -3.40395780e-02, ...,\n",
       "        -2.62815038e-02, -1.07797424e-01, -2.85520248e-02],\n",
       "       [ 1.18829898e-01, -5.10360562e-02, -2.30276697e-02, ...,\n",
       "         3.65446807e-02, -1.49561538e-01, -7.12749399e-02],\n",
       "       [ 2.88916260e-01, -4.16333634e-17,  6.93889390e-18, ...,\n",
       "        -2.77555756e-17,  1.73472348e-18, -6.93889390e-18]])"
      ]
     },
     "execution_count": 110,
     "metadata": {},
     "output_type": "execute_result"
    }
   ],
   "source": [
    "rr = rtv_einsum(dir_rpt, axis0, nnsrss_a)\n",
    "rr"
   ]
  },
  {
   "cell_type": "code",
   "execution_count": 111,
   "metadata": {},
   "outputs": [
    {
     "data": {
      "text/plain": [
       "(55, 27)"
      ]
     },
     "execution_count": 111,
     "metadata": {},
     "output_type": "execute_result"
    }
   ],
   "source": [
    "rr.shape"
   ]
  },
  {
   "cell_type": "code",
   "execution_count": 112,
   "metadata": {},
   "outputs": [
    {
     "data": {
      "text/plain": [
       "array([[-0.07663939,  0.08360852,  0.23038885, -0.03278154, -0.05099504],\n",
       "       [-0.06389604,  0.27251639,  0.07749573,  0.00907458, -0.11048265],\n",
       "       [ 0.16016827,  0.33480496,  0.06067855,  0.19767971,  0.18239977],\n",
       "       [-0.02315304,  0.11411974,  0.27470669,  0.10605045,  0.03658089],\n",
       "       [ 0.04640372,  0.02871833,  0.3579492 ,  0.05502559,  0.17012375],\n",
       "       [ 0.09078196, -0.03470485,  0.05809832,  0.15363798,  0.27361253],\n",
       "       [ 0.03674439, -0.07952057,  0.29795377,  0.13129858,  0.07615609],\n",
       "       [ 0.0532187 ,  0.01401369, -0.08445033,  0.0874674 ,  0.33067592],\n",
       "       [ 0.1135484 , -0.01778437,  0.25960944, -0.06223616,  0.05696151],\n",
       "       [ 0.14145596, -0.0173206 ,  0.10810268,  0.34811584,  0.12374399],\n",
       "       [ 0.03481057,  0.13835571, -0.07690904,  0.1188299 ,  0.28891626]])"
      ]
     },
     "execution_count": 112,
     "metadata": {},
     "output_type": "execute_result"
    }
   ],
   "source": [
    "ma = rr[:,0].reshape(nnsrss.shape[0], nnsrss.shape[1])\n",
    "ma"
   ]
  },
  {
   "cell_type": "code",
   "execution_count": 113,
   "metadata": {},
   "outputs": [
    {
     "data": {
      "text/plain": [
       "(11, 5)"
      ]
     },
     "execution_count": 113,
     "metadata": {},
     "output_type": "execute_result"
    }
   ],
   "source": [
    "ma.shape"
   ]
  },
  {
   "cell_type": "code",
   "execution_count": 114,
   "metadata": {},
   "outputs": [
    {
     "data": {
      "text/plain": [
       "array([[1],\n",
       "       [0],\n",
       "       [0],\n",
       "       [1],\n",
       "       [1],\n",
       "       [3],\n",
       "       [1],\n",
       "       [3],\n",
       "       [1],\n",
       "       [2],\n",
       "       [3]], dtype=int64)"
      ]
     },
     "execution_count": 114,
     "metadata": {},
     "output_type": "execute_result"
    }
   ],
   "source": [
    "nna_max_idx[:,None]"
   ]
  },
  {
   "cell_type": "markdown",
   "metadata": {},
   "source": [
    "#### Get the nearest neighbor projected distance of the majority class in nn subspace that is farthest from the synthetic instance"
   ]
  },
  {
   "cell_type": "code",
   "execution_count": 115,
   "metadata": {},
   "outputs": [
    {
     "data": {
      "text/plain": [
       "array([ 0.08360852, -0.06389604,  0.16016827,  0.11411974,  0.02871833,\n",
       "        0.15363798, -0.07952057,  0.0874674 , -0.01778437,  0.10810268,\n",
       "        0.1188299 ])"
      ]
     },
     "execution_count": 115,
     "metadata": {},
     "output_type": "execute_result"
    }
   ],
   "source": [
    "max_disp = np.take_along_axis(rr[:,0].reshape(nnsrss.shape[0], nnsrss.shape[1]), nna_max_idx[:,None], axis=1).ravel()\n",
    "max_disp"
   ]
  },
  {
   "cell_type": "code",
   "execution_count": 116,
   "metadata": {},
   "outputs": [
    {
     "data": {
      "text/plain": [
       "(11,)"
      ]
     },
     "execution_count": 116,
     "metadata": {},
     "output_type": "execute_result"
    }
   ],
   "source": [
    "max_disp.shape"
   ]
  },
  {
   "cell_type": "markdown",
   "metadata": {},
   "source": [
    "#### The displacement from the synthetic instanace to nnb"
   ]
  },
  {
   "cell_type": "code",
   "execution_count": 117,
   "metadata": {},
   "outputs": [
    {
     "data": {
      "text/plain": [
       "array([0.23038885, 0.27251639, 0.33480496, 0.27470669, 0.3579492 ,\n",
       "       0.27361253, 0.29795377, 0.33067592, 0.25960944, 0.34811584,\n",
       "       0.28891626])"
      ]
     },
     "execution_count": 117,
     "metadata": {},
     "output_type": "execute_result"
    }
   ],
   "source": [
    "nnb_disp = np.take_along_axis(rr[:,0].reshape(nnsrss.shape[0], nnsrss.shape[1]), nnb_idx[:,None], axis=1).ravel()\n",
    "nnb_disp"
   ]
  },
  {
   "cell_type": "code",
   "execution_count": 118,
   "metadata": {},
   "outputs": [
    {
     "data": {
      "text/plain": [
       "(11,)"
      ]
     },
     "execution_count": 118,
     "metadata": {},
     "output_type": "execute_result"
    }
   ],
   "source": [
    "nnb_disp.shape"
   ]
  },
  {
   "cell_type": "markdown",
   "metadata": {},
   "source": [
    "#### Add a random displacement to max_disp then add to dir to get the new synthetic sample location for each subspace"
   ]
  },
  {
   "cell_type": "code",
   "execution_count": 119,
   "metadata": {
    "scrolled": true
   },
   "outputs": [
    {
     "data": {
      "text/plain": [
       "array([[-1.16511958e-02, -5.08330027e-02, -9.15389046e-03,\n",
       "        -7.33114203e-03,  1.28864729e-02,  1.02947188e-02,\n",
       "         2.45643734e-02,  1.70915493e-02, -9.81507071e-03,\n",
       "         5.47755389e-02,  5.54107056e-03,  3.58487618e-03,\n",
       "         3.64318778e-03,  2.31265596e-03,  3.18163958e-02,\n",
       "         1.59916530e-02,  1.12235159e-02,  2.52884215e-02,\n",
       "         3.02752020e-02,  1.49626409e-02,  2.76651156e-03,\n",
       "        -1.23933272e-02,  2.06151794e-03,  2.77699110e-03,\n",
       "         4.77418598e-02,  2.73135223e-02,  4.42888120e-02],\n",
       "       [ 5.63772287e-03,  2.62484065e-03,  5.17996944e-03,\n",
       "         4.95806707e-03, -9.40040214e-03, -9.59239825e-03,\n",
       "        -4.88357376e-04, -4.29112810e-03, -3.16617851e-03,\n",
       "        -1.06532359e-02, -2.40011917e-04, -4.98032154e-03,\n",
       "         6.98564334e-05,  5.03322096e-04,  2.23827185e-03,\n",
       "        -9.56274268e-04,  6.16633488e-04, -1.56280120e-03,\n",
       "         4.93196961e-03, -7.50217264e-04,  3.82470258e-03,\n",
       "        -1.44109669e-03,  3.28072284e-03,  3.83208093e-03,\n",
       "         4.73868605e-03, -2.02075797e-03,  4.97406923e-03],\n",
       "       [ 5.11382889e-02,  2.98798677e-02,  4.79946751e-02,\n",
       "         3.44016460e-02,  1.95125568e-02, -2.03543122e-02,\n",
       "        -7.21992464e-03,  2.92154465e-02,  3.82061189e-02,\n",
       "        -7.13595158e-02,  6.08173388e-04,  6.35669270e-02,\n",
       "        -4.81688065e-03,  4.71893482e-03, -4.00635818e-02,\n",
       "        -1.94687617e-02, -2.04678590e-03,  3.43731517e-02,\n",
       "         1.07667646e-02,  3.83452574e-03,  3.94964899e-02,\n",
       "         8.21285670e-02,  2.98823031e-02,  2.45491110e-02,\n",
       "        -1.38869331e-01, -5.39668753e-02, -7.16676761e-02],\n",
       "       [-2.53571745e-02, -9.86756591e-02, -2.32878421e-02,\n",
       "        -1.92308011e-02,  5.68215132e-02,  1.49232309e-02,\n",
       "        -4.62509619e-03,  7.88103850e-03,  2.21726215e-02,\n",
       "         1.74933951e-02,  1.36715290e-03, -1.00959715e-02,\n",
       "        -3.93902756e-03,  1.00736614e-05, -3.80621279e-02,\n",
       "        -2.33725050e-02, -7.91307062e-03,  5.22075524e-03,\n",
       "        -3.42260290e-03, -1.12917217e-02,  1.04470128e-02,\n",
       "        -2.48683728e-02,  5.75780499e-03,  7.13252256e-03,\n",
       "         2.82071045e-02,  3.45302907e-02,  3.44105469e-02],\n",
       "       [ 2.59922269e-02,  1.30534087e-02,  2.44442802e-02,\n",
       "         1.75279043e-02,  6.55782621e-02,  6.11328159e-03,\n",
       "        -1.92180706e-03,  2.79505447e-02,  7.06971554e-02,\n",
       "         1.25329998e-02, -2.69843845e-03, -7.22725221e-03,\n",
       "         7.75486720e-03,  1.32172149e-03, -1.97001747e-02,\n",
       "        -4.50947661e-02, -1.65160964e-02, -1.83911782e-02,\n",
       "        -4.20247904e-03, -3.59679292e-02,  5.27044402e-02,\n",
       "         6.18682498e-02,  6.14012930e-02,  2.98880572e-02,\n",
       "         8.88456723e-02, -3.35571604e-02, -6.41663904e-03],\n",
       "       [-4.13128754e-02,  2.76221738e-02, -3.84325626e-02,\n",
       "        -2.78933602e-02, -9.06605712e-04, -2.71449129e-02,\n",
       "         5.09653074e-02,  2.68864047e-02,  2.43063912e-02,\n",
       "         3.24314580e-02, -5.38216830e-03, -1.81993162e-02,\n",
       "        -6.62463368e-03, -2.75102973e-03,  2.50347727e-03,\n",
       "        -9.10108719e-03,  2.70808599e-02, -1.42041650e-02,\n",
       "         4.79837376e-02, -6.84643523e-03, -2.05532637e-02,\n",
       "         5.51372367e-02, -2.12036661e-02, -1.02823373e-02,\n",
       "         6.00242810e-02,  7.35219356e-04,  1.08277799e-01],\n",
       "       [-2.64878452e-02,  8.68807144e-02, -2.32536145e-02,\n",
       "        -1.95209286e-02, -3.94923265e-02,  4.27621213e-02,\n",
       "         1.08087574e-03,  3.60528040e-02,  2.80271117e-02,\n",
       "         1.09221735e-01, -1.57260547e-02,  2.65429840e-03,\n",
       "        -5.09687896e-03, -6.55139870e-03, -3.45815416e-02,\n",
       "        -3.17796544e-02, -1.87596130e-02, -5.81577811e-02,\n",
       "        -5.09189932e-02,  1.70917297e-02,  2.87779293e-02,\n",
       "         1.25708328e-01,  2.02169553e-02,  1.60243368e-02,\n",
       "         9.72407676e-03,  4.03535499e-02,  3.76660942e-02],\n",
       "       [ 1.94424323e-04,  7.78684866e-03, -2.51334168e-03,\n",
       "         1.39679019e-03, -2.73097598e-02, -5.16466030e-02,\n",
       "        -2.41564218e-02, -1.82515109e-02,  4.45109212e-03,\n",
       "        -3.26091112e-02,  2.97009496e-02,  1.73720419e-02,\n",
       "         1.85001216e-02,  1.36805857e-02, -1.33739698e-02,\n",
       "        -2.41510177e-02, -4.66168401e-03,  8.72351259e-03,\n",
       "        -1.92651287e-02,  6.03477645e-03, -2.03125881e-03,\n",
       "        -4.85662891e-02, -6.90215539e-03,  1.28050202e-04,\n",
       "        -5.71642637e-02, -4.60641706e-02, -3.11546887e-02],\n",
       "       [ 4.05079582e-02,  7.29578933e-02,  3.51202916e-02,\n",
       "         3.38802287e-02, -6.16614096e-02, -3.15949558e-02,\n",
       "        -1.96395800e-02,  2.37335738e-03,  6.28267215e-02,\n",
       "         1.58042922e-02,  2.90259134e-03, -1.35686362e-03,\n",
       "         2.53126063e-03,  3.50387839e-03, -2.05518510e-02,\n",
       "        -3.09005179e-02, -1.05297185e-02, -1.56683463e-02,\n",
       "        -3.83560285e-02,  3.71190693e-03,  4.51880137e-02,\n",
       "         1.41588606e-01,  4.29152695e-02,  3.33434974e-02,\n",
       "        -3.35919156e-02, -2.46278456e-02, -1.57088127e-02],\n",
       "       [ 4.50047043e-02, -4.03123291e-02,  4.22737171e-02,\n",
       "         2.96281514e-02, -2.35575899e-02, -2.18648585e-02,\n",
       "         2.36843056e-02,  2.34615351e-02, -7.22060084e-02,\n",
       "        -2.41018144e-02, -2.04058564e-03, -1.08251912e-02,\n",
       "        -8.16976827e-04,  2.61506386e-03,  4.56793415e-03,\n",
       "         5.43673725e-03,  1.36936318e-02,  2.19648704e-02,\n",
       "        -4.13419468e-02,  1.49754529e-04,  3.54859716e-02,\n",
       "        -2.10264076e-02,  3.09824247e-02,  2.12840448e-02,\n",
       "        -2.35532150e-02,  5.95023501e-03,  4.74612603e-02],\n",
       "       [-3.42608369e-02,  9.83833574e-02, -3.05862041e-02,\n",
       "        -2.56607213e-02,  1.22151727e-01,  2.36933703e-02,\n",
       "         1.26931058e-02,  2.78583877e-02,  6.78683164e-02,\n",
       "         1.79683366e-04,  2.62598634e-03,  2.96961231e-02,\n",
       "        -3.57768267e-03, -4.78038742e-05,  3.21916460e-03,\n",
       "        -1.76204352e-02,  6.70013862e-03,  2.64716383e-02,\n",
       "         4.41074404e-02, -1.97771884e-02, -9.04208831e-03,\n",
       "         1.13463533e-01, -1.43121898e-02, -6.73127843e-03,\n",
       "         8.66290328e-02, -1.16173709e-02,  4.61730894e-02]])"
      ]
     },
     "execution_count": 119,
     "metadata": {},
     "output_type": "execute_result"
    }
   ],
   "source": [
    "syn_new_ss = dir * ((max_disp + ((nnb_disp - max_disp) * rng.uniform(size=nnb_disp.shape[0])))[:,None])\n",
    "syn_new_ss"
   ]
  },
  {
   "cell_type": "code",
   "execution_count": 120,
   "metadata": {},
   "outputs": [
    {
     "data": {
      "text/plain": [
       "(11, 27)"
      ]
     },
     "execution_count": 120,
     "metadata": {},
     "output_type": "execute_result"
    }
   ],
   "source": [
    "syn_new_ss.shape"
   ]
  },
  {
   "cell_type": "markdown",
   "metadata": {},
   "source": [
    "#### Move the new sythetic locations back out of the subspaces"
   ]
  },
  {
   "cell_type": "code",
   "execution_count": 121,
   "metadata": {
    "scrolled": true
   },
   "outputs": [],
   "source": [
    "syn_new = syn_new_ss + test_setr_filt"
   ]
  },
  {
   "cell_type": "code",
   "execution_count": 122,
   "metadata": {},
   "outputs": [
    {
     "data": {
      "text/plain": [
       "(11, 27)"
      ]
     },
     "execution_count": 122,
     "metadata": {},
     "output_type": "execute_result"
    }
   ],
   "source": [
    "syn_new.shape"
   ]
  },
  {
   "cell_type": "markdown",
   "metadata": {},
   "source": [
    "#### Invert the scaling to transfer back to the original feature space"
   ]
  },
  {
   "cell_type": "code",
   "execution_count": 123,
   "metadata": {
    "scrolled": true
   },
   "outputs": [
    {
     "data": {
      "text/plain": [
       "array([[1.29720942e+01, 2.37468681e+01, 8.28131461e+01, 5.20814040e+02,\n",
       "        8.93374346e-02, 5.50562638e-02, 3.82040746e-02, 2.41188197e-02,\n",
       "        1.60061637e-01, 5.84407426e-02, 2.23701666e-01, 1.36622085e+00,\n",
       "        1.39131937e+00, 1.88181914e+01, 6.70394291e-03, 1.02112566e-02,\n",
       "        1.95445123e-02, 7.78597577e-03, 1.50920848e-02, 2.26109663e-03,\n",
       "        1.44256973e+01, 3.37650024e+01, 9.16955212e+01, 6.44092385e+02,\n",
       "        1.35929034e-01, 1.31171967e-01, 1.81552691e-01],\n",
       "       [1.39151167e+01, 1.58676165e+01, 9.11582001e+01, 5.95655271e+02,\n",
       "        9.96587175e-02, 1.25198828e-01, 7.76815691e-02, 4.98266250e-02,\n",
       "        1.65606975e-01, 6.51541844e-02, 2.78037207e-01, 5.97965041e-01,\n",
       "        1.95848256e+00, 2.36194776e+01, 4.78284324e-03, 2.05226740e-02,\n",
       "        1.78341869e-02, 9.12349972e-03, 1.24642451e-02, 3.10828481e-03,\n",
       "        1.66746515e+01, 2.08059301e+01, 1.10945351e+02, 8.27844819e+02,\n",
       "        1.41797677e-01, 3.52359878e-01, 2.82679086e-01],\n",
       "       [1.23841927e+01, 2.21435477e+01, 7.92270914e+01, 4.76676476e+02,\n",
       "        8.97514059e-02, 5.98061337e-02, 4.82485362e-02, 2.48681478e-02,\n",
       "        1.55856006e-01, 6.19018502e-02, 2.36079471e-01, 1.27372763e+00,\n",
       "        1.49477134e+00, 1.89365083e+01, 7.93444961e-03, 1.29777733e-02,\n",
       "        2.36194728e-02, 8.24955868e-03, 1.62568617e-02, 2.58799111e-03,\n",
       "        1.40907030e+01, 3.22314638e+01, 8.98681478e+01, 6.17042737e+02,\n",
       "        1.49454268e-01, 1.70457224e-01, 2.43141697e-01],\n",
       "       [1.38822319e+01, 2.40721608e+01, 8.89761952e+01, 6.01280695e+02,\n",
       "        7.62441190e-02, 5.65878819e-02, 3.27860089e-02, 1.89556649e-02,\n",
       "        1.74852932e-01, 5.51605864e-02, 2.35275393e-01, 8.65517748e-01,\n",
       "        1.64340202e+00, 2.05253934e+01, 4.23632638e-03, 1.36779977e-02,\n",
       "        1.65764240e-02, 6.64560367e-03, 1.39566238e-02, 1.56515886e-03,\n",
       "        1.56858512e+01, 3.10469387e+01, 1.01532618e+02, 7.63346919e+02,\n",
       "        1.05852932e-01, 1.77443628e-01, 1.80261653e-01],\n",
       "       [1.31507353e+01, 2.43559893e+01, 8.47863769e+01, 5.37250534e+02,\n",
       "        8.62941041e-02, 7.70752005e-02, 5.35597727e-02, 2.59836496e-02,\n",
       "        1.64641577e-01, 6.07850668e-02, 2.37448262e-01, 1.03329813e+00,\n",
       "        1.60958155e+00, 1.92176470e+01, 4.58947996e-03, 1.69357221e-02,\n",
       "        2.36196258e-02, 7.72012970e-03, 1.34248396e-02, 2.36590110e-03,\n",
       "        1.56420989e+01, 3.36312967e+01, 1.02748248e+02, 7.44460826e+02,\n",
       "        1.35780748e-01, 3.14842514e-01, 3.84934893e-01],\n",
       "       [1.31864324e+01, 2.20667877e+01, 8.43871504e+01, 5.38391735e+02,\n",
       "        9.05995753e-02, 6.15231425e-02, 3.63719932e-02, 2.43695446e-02,\n",
       "        1.56252587e-01, 5.98898456e-02, 2.44037142e-01, 1.42065173e+00,\n",
       "        1.52640540e+00, 2.05971042e+01, 7.46264479e-03, 1.26182084e-02,\n",
       "        1.80260205e-02, 9.29016213e-03, 1.52008727e-02, 2.72682856e-03,\n",
       "        1.47676216e+01, 3.23487491e+01, 9.40990269e+01, 6.74058068e+02,\n",
       "        1.37537375e-01, 1.51969498e-01, 1.66343309e-01],\n",
       "       [1.34191447e+01, 1.96190627e+01, 8.81610069e+01, 5.56904524e+02,\n",
       "        1.05225435e-01, 1.40387395e-01, 9.83513178e-02, 5.97138242e-02,\n",
       "        1.96049478e-01, 6.64858480e-02, 3.81572500e-01, 8.21810169e-01,\n",
       "        2.45482894e+00, 3.22323942e+01, 5.33371479e-03, 2.25586026e-02,\n",
       "        2.37611932e-02, 1.03498507e-02, 1.78918622e-02, 3.18972353e-03,\n",
       "        1.71774217e+01, 2.67865765e+01, 1.12076877e+02, 8.90584487e+02,\n",
       "        1.52631676e-01, 3.62946346e-01, 3.57089583e-01],\n",
       "       [1.17539700e+01, 1.77902571e+01, 7.55366744e+01, 4.26155359e+02,\n",
       "        1.04274898e-01, 8.20481590e-02, 4.25100392e-02, 4.07277960e-02,\n",
       "        1.60633690e-01, 6.52217194e-02, 5.20419172e-01, 1.98560502e+00,\n",
       "        3.54162808e+00, 3.79845582e+01, 6.19357793e-03, 1.49343403e-02,\n",
       "        1.55239731e-02, 1.36205142e-02, 1.73178129e-02, 2.49267781e-03,\n",
       "        1.34444207e+01, 2.61577928e+01, 8.71622770e+01, 5.52816094e+02,\n",
       "        1.26483705e-01, 1.43453506e-01, 1.06666575e-01],\n",
       "       [1.54671320e+01, 1.90073649e+01, 9.91472106e+01, 7.44961261e+02,\n",
       "        7.95797657e-02, 5.77536410e-02, 4.35378273e-02, 2.83875195e-02,\n",
       "        1.52667445e-01, 5.43003878e-02, 2.28415506e-01, 9.99860464e-01,\n",
       "        1.52472094e+00, 2.18559695e+01, 2.93042620e-03, 9.81565784e-03,\n",
       "        1.38302315e-02, 5.31686800e-03, 1.04849607e-02, 1.32644189e-03,\n",
       "        1.76964344e+01, 3.07524045e+01, 1.14441863e+02, 9.65387632e+02,\n",
       "        1.09254262e-01, 1.84573638e-01, 2.28606973e-01],\n",
       "       [1.15689511e+01, 2.40279644e+01, 7.39528392e+01, 4.16051370e+02,\n",
       "        9.39605258e-02, 6.59550240e-02, 3.38984616e-02, 2.08704609e-02,\n",
       "        1.76175815e-01, 6.21456459e-02, 2.44064923e-01, 1.44401817e+00,\n",
       "        1.47966130e+00, 1.80401000e+01, 7.32337492e-03, 1.10738907e-02,\n",
       "        1.62326782e-02, 7.40452551e-03, 1.93649812e-02, 2.62333467e-03,\n",
       "        1.32209672e+01, 3.44010892e+01, 8.40745528e+01, 5.41483214e+02,\n",
       "        1.46432260e-01, 1.45218344e-01, 1.58100779e-01],\n",
       "       [1.35604280e+01, 2.10791959e+01, 8.69201914e+01, 5.73295123e+02,\n",
       "        7.92907468e-02, 5.91189380e-02, 3.01674175e-02, 1.93451076e-02,\n",
       "        1.76211736e-01, 5.58685314e-02, 2.37251661e-01, 8.03369018e-01,\n",
       "        1.58507084e+00, 2.05344059e+01, 3.26369816e-03, 1.14238743e-02,\n",
       "        1.34432549e-02, 6.64043779e-03, 1.33931884e-02, 1.38454533e-03,\n",
       "        1.59725904e+01, 2.95171517e+01, 1.02984649e+02, 7.92570255e+02,\n",
       "        1.07204392e-01, 2.06121106e-01, 2.00863104e-01]])"
      ]
     },
     "execution_count": 123,
     "metadata": {},
     "output_type": "execute_result"
    }
   ],
   "source": [
    "syn_in_org = scaler.inverse_transform(syn_new)\n",
    "syn_in_org"
   ]
  },
  {
   "cell_type": "code",
   "execution_count": 124,
   "metadata": {},
   "outputs": [
    {
     "data": {
      "text/plain": [
       "(11, 27)"
      ]
     },
     "execution_count": 124,
     "metadata": {},
     "output_type": "execute_result"
    }
   ],
   "source": [
    "syn_in_org.shape"
   ]
  },
  {
   "cell_type": "code",
   "execution_count": 130,
   "metadata": {},
   "outputs": [
    {
     "data": {
      "text/plain": [
       "array([], shape=(0, 27), dtype=float64)"
      ]
     },
     "execution_count": 130,
     "metadata": {},
     "output_type": "execute_result"
    }
   ],
   "source": [
    "kkk = test_setr[np.zeros(test_setr.shape[0], dtype=bool)]\n",
    "kkk"
   ]
  },
  {
   "cell_type": "code",
   "execution_count": 132,
   "metadata": {},
   "outputs": [
    {
     "data": {
      "text/plain": [
       "array([[0.23404672, 0.30064254, 0.23595106, ..., 0.48515927, 0.23117471,\n",
       "        0.2779975 ],\n",
       "       [0.55090847, 0.39228948, 0.53834116, ..., 0.32690348, 0.22656241,\n",
       "        0.27966278],\n",
       "       [0.38047897, 0.33040243, 0.38255797, ..., 0.5666644 , 0.23293177,\n",
       "        0.39456703],\n",
       "       ...,\n",
       "       [0.16401391, 0.24078458, 0.16360791, ..., 0.44644434, 0.13277913,\n",
       "        0.11105329],\n",
       "       [0.59351584, 0.42069665, 0.58386684, ..., 0.54357128, 0.31595304,\n",
       "        0.5591174 ],\n",
       "       [0.12581419, 0.08488333, 0.1268317 , ..., 0.42878489, 0.1512283 ,\n",
       "        0.08966486]])"
      ]
     },
     "execution_count": 132,
     "metadata": {},
     "output_type": "execute_result"
    }
   ],
   "source": [
    "np.concatenate([kkk, test_setr])"
   ]
  },
  {
   "cell_type": "code",
   "execution_count": null,
   "metadata": {},
   "outputs": [],
   "source": []
  }
 ],
 "metadata": {
  "kernelspec": {
   "display_name": "Python 3",
   "language": "python",
   "name": "python3"
  },
  "language_info": {
   "codemirror_mode": {
    "name": "ipython",
    "version": 3
   },
   "file_extension": ".py",
   "mimetype": "text/x-python",
   "name": "python",
   "nbconvert_exporter": "python",
   "pygments_lexer": "ipython3",
   "version": "3.8.5"
  }
 },
 "nbformat": 4,
 "nbformat_minor": 4
}
